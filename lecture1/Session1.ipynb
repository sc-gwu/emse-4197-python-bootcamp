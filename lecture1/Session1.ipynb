{
  "cells": [
    {
      "cell_type": "markdown",
      "metadata": {
        "id": "VZMalaaJXCYz"
      },
      "source": [
        "# EMSE-4197-PYTHON-BOOTCAMP"
      ]
    },
    {
      "cell_type": "markdown",
      "metadata": {
        "id": "8YTAxp3CXCY4"
      },
      "source": [
        "## Part 1: Print Function and Comments\n",
        "\n",
        "Python has a built in function that outputs things to the console window for us. This function is called print.\n",
        "\n",
        "We’re going to cover functions in a lot of detail throughout this series, but for now you can think of functions as bundles of code that we can run to perform some specific action.\n",
        "\n",
        "Somebody else has kindly written the (quite complicated) code that allows us to print things to the console, and they've bundled it up in a function called print. We can run this function to perform the action of printing.\n",
        "\n",
        "The process of running a function like this is often referred to as “calling” a function.\n",
        "\n",
        "Instead of \"calling\", some say \"running\" or \"executing\" a function. They all mean the same thing!\n",
        "\n",
        "Let's call the print function to print the value 4 to the console:"
      ]
    },
    {
      "cell_type": "markdown",
      "source": [
        "Print Documentation: https://docs.python.org/3/library/functions.html#print"
      ],
      "metadata": {
        "id": "ZQG4fTMDrPE-"
      }
    },
    {
      "cell_type": "code",
      "execution_count": null,
      "metadata": {
        "id": "u5xeNUJIXCY4"
      },
      "outputs": [],
      "source": [
        "print(4)"
      ]
    },
    {
      "cell_type": "markdown",
      "metadata": {
        "id": "Q_8BwXXzXCY4"
      },
      "source": [
        "We can use this function multiple times if we want to, and values get printed out in the order of our print calls:"
      ]
    },
    {
      "cell_type": "code",
      "execution_count": null,
      "metadata": {
        "id": "cGR61lsVXCY8"
      },
      "outputs": [],
      "source": [
        "print(4)\n",
        "print(3.141)\n",
        "print(12345)"
      ]
    },
    {
      "cell_type": "markdown",
      "metadata": {
        "id": "HDxQ5umIXCY8"
      },
      "source": [
        "Let’s look at a few more examples:"
      ]
    },
    {
      "cell_type": "code",
      "execution_count": null,
      "metadata": {
        "id": "dap-OxLdXCY8"
      },
      "outputs": [],
      "source": [
        "print(1 + 2)\n",
        "print(3.4 + 11)\n",
        "print(8 + 4.0)"
      ]
    },
    {
      "cell_type": "markdown",
      "source": [
        "There is a specific syntax in Python, like all languages. Python requires one statement per line OR statements separated by semi-colons, but the latter is more common."
      ],
      "metadata": {
        "id": "xcyNbWccY8Vb"
      }
    },
    {
      "cell_type": "code",
      "source": [
        "# this will fail\n",
        "print(4) print(5)"
      ],
      "metadata": {
        "id": "rb1ZpPFPY4q9"
      },
      "execution_count": null,
      "outputs": []
    },
    {
      "cell_type": "code",
      "source": [
        "# put print statements on the same line with a semi-colon\n",
        "# this won't fail\n",
        "# will still show up on different lines\n",
        "print(4); print(5)"
      ],
      "metadata": {
        "id": "Jy8_csgJZWko"
      },
      "execution_count": null,
      "outputs": []
    },
    {
      "cell_type": "markdown",
      "source": [
        "You can force items to be printed on the same line by using one print statement or by including the end parameter within the print statement."
      ],
      "metadata": {
        "id": "VM8Wb15XZh8l"
      }
    },
    {
      "cell_type": "code",
      "source": [
        "# print 4 and 5 on the same line\n",
        "print(4, end=' ')\n",
        "print(5)"
      ],
      "metadata": {
        "id": "nEzPGPGNZhgS"
      },
      "execution_count": null,
      "outputs": []
    },
    {
      "cell_type": "code",
      "source": [
        "# print 4 and 5 on the same line\n",
        "print(4, 5)"
      ],
      "metadata": {
        "id": "8QASXEwuZzJB"
      },
      "execution_count": null,
      "outputs": []
    },
    {
      "cell_type": "markdown",
      "source": [
        "Display is another built-in function. The display function is specific to IPython environments (such as Jupyter notebooks) and is used to display rich representations of objects. It is more powerful and flexible than print because it can display a variety of formats, such as HTML, images, LaTeX, and more. This is particularly useful in data science and research contexts where you might want to display complex objects like DataFrames, plots, and multimedia.\n",
        "\n",
        "In our current examples, you will see slight differences.\n",
        "\n",
        "Display is commonly used when viewing dataframes and more complex objects in Python. We will stick with print for now."
      ],
      "metadata": {
        "id": "JAcMerj9pbuj"
      }
    },
    {
      "cell_type": "code",
      "source": [
        "display(4)"
      ],
      "metadata": {
        "id": "EU-PC4Z1p3wQ"
      },
      "execution_count": null,
      "outputs": []
    },
    {
      "cell_type": "code",
      "source": [
        "# print will put this on the same line but display separate lines\n",
        "display(4, 5)"
      ],
      "metadata": {
        "id": "UbHp0jo1qD1b"
      },
      "execution_count": null,
      "outputs": []
    },
    {
      "cell_type": "markdown",
      "source": [
        "Comments are written with the # sign. Anything after a # sign (on the same line) will be treated as a comment in Python."
      ],
      "metadata": {
        "id": "4Ug42w8_aAU7"
      }
    },
    {
      "cell_type": "code",
      "source": [
        "# this is a comment\n",
        "this is not a comment"
      ],
      "metadata": {
        "id": "0D67OuoWaIwP"
      },
      "execution_count": null,
      "outputs": []
    },
    {
      "cell_type": "code",
      "source": [
        "# this is also a comment\n",
        "2 + 2 # this is also a comment"
      ],
      "metadata": {
        "id": "YPEIE5zYaUBF"
      },
      "execution_count": null,
      "outputs": []
    },
    {
      "cell_type": "code",
      "source": [
        "2 + #2 be careful where you put your comments"
      ],
      "metadata": {
        "id": "oL6hl-jCaWYs"
      },
      "execution_count": null,
      "outputs": []
    },
    {
      "cell_type": "code",
      "source": [
        "####### you can also have as many #'s as you want\n",
        "## a cell with only comments will have no output"
      ],
      "metadata": {
        "id": "NBlRFUHPacmy"
      },
      "execution_count": null,
      "outputs": []
    },
    {
      "cell_type": "markdown",
      "metadata": {
        "id": "pL7TKA0yXCY3"
      },
      "source": [
        "### Numbers, Arithmetic, and Object Assignment\n",
        "\n",
        "In the following section we will learn about the following topics:\n",
        "\n",
        "    1.) Types of Numbers in Python\n",
        "    2.) Basic Arithmetic\n",
        "    3.) Differences between classic division and floor division\n",
        "    4.) Object Assignment in Python"
      ]
    },
    {
      "cell_type": "markdown",
      "metadata": {
        "id": "GHVGaI0zXCY3"
      },
      "source": [
        "## Types of numbers\n",
        "\n",
        "Python has various \"types\" of numbers (numeric literals). We'll mainly focus on integers and floating point numbers.\n",
        "\n",
        "- Integers are just whole numbers, positive or negative. For example: 2 and -2 are examples of integers.\n",
        "\n",
        "- Floating point numbers in Python are notable because they have a decimal point in them, or use an exponential (e) to define the number. For example 2.0 and -2.1 are examples of floating point numbers. 4E2 (4 times 10 to the power of 2) is also an example of a floating point number in Python.\n",
        "\n",
        "Throughout this class we will be mainly working with integers or simple float number types.\n",
        "\n",
        "Here is a table of the two main types we will spend most of our time working with some examples:"
      ]
    },
    {
      "cell_type": "markdown",
      "metadata": {
        "id": "uY-X9l7fXCY3"
      },
      "source": [
        "<table>\n",
        "<tr>\n",
        "    <th>Examples</th>\n",
        "    <th>Number \"Type\"</th>\n",
        "</tr>\n",
        "\n",
        "<tr>\n",
        "    <td>1,2,-5,1000</td>\n",
        "    <td>Integers</td>\n",
        "</tr>\n",
        "\n",
        "<tr>\n",
        "    <td>1.2,-0.5,2e2,3E2</td>\n",
        "    <td>Floating-point numbers</td>\n",
        "</tr>\n",
        " </table>"
      ]
    },
    {
      "cell_type": "markdown",
      "metadata": {
        "id": "GsS4shDmXCY3"
      },
      "source": [
        "\n",
        "\n",
        "Now let's start with some basic arithmetic."
      ]
    },
    {
      "cell_type": "markdown",
      "metadata": {
        "id": "eM2KsrFfXCY3"
      },
      "source": [
        "### Basic Arithmetic"
      ]
    },
    {
      "cell_type": "code",
      "execution_count": null,
      "metadata": {
        "id": "BzG6veLsXCY3"
      },
      "outputs": [],
      "source": [
        "# Addition\n",
        "2+1"
      ]
    },
    {
      "cell_type": "code",
      "execution_count": null,
      "metadata": {
        "id": "sFqhBbvVXCY3"
      },
      "outputs": [],
      "source": [
        "# Subtraction\n",
        "2-1"
      ]
    },
    {
      "cell_type": "code",
      "execution_count": null,
      "metadata": {
        "id": "jzBXNYgsXCY3"
      },
      "outputs": [],
      "source": [
        "# Multiplication\n",
        "2*2"
      ]
    },
    {
      "cell_type": "code",
      "source": [
        "# more multiplication\n",
        "2*2*2*2"
      ],
      "metadata": {
        "id": "0QdpwkSObrNa"
      },
      "execution_count": null,
      "outputs": []
    },
    {
      "cell_type": "code",
      "execution_count": null,
      "metadata": {
        "id": "DyYN58zkXCY3"
      },
      "outputs": [],
      "source": [
        "# Division\n",
        "3/2"
      ]
    },
    {
      "cell_type": "markdown",
      "source": [
        "If a math equation in Python3 includes a float, the result will always be a float. If the equation is all integers, the result will be in integer EXCEPT when division is included.\n",
        "\n",
        "If division is included, the result will be a float in Python3."
      ],
      "metadata": {
        "id": "gRQN5mE1cKIj"
      }
    },
    {
      "cell_type": "code",
      "source": [
        "# results in a float\n",
        "4/2"
      ],
      "metadata": {
        "id": "5C9fZqhIcYYp"
      },
      "execution_count": null,
      "outputs": []
    },
    {
      "cell_type": "code",
      "source": [
        "# results in a float\n",
        "2.0 * 2"
      ],
      "metadata": {
        "id": "3d5cQZ3ocdFv"
      },
      "execution_count": null,
      "outputs": []
    },
    {
      "cell_type": "code",
      "source": [
        "# results in a float\n",
        "2.0 + 2"
      ],
      "metadata": {
        "id": "tN4lUpxYcj1y"
      },
      "execution_count": null,
      "outputs": []
    },
    {
      "cell_type": "code",
      "source": [
        "# results in an integer\n",
        "2 + 2"
      ],
      "metadata": {
        "id": "BETfOBzUcnL6"
      },
      "execution_count": null,
      "outputs": []
    },
    {
      "cell_type": "markdown",
      "source": [
        "Floor division in Python is a mathematical operation that divides two numbers and then rounds down the result to the nearest integer. This operation is performed using the // operator."
      ],
      "metadata": {
        "id": "rwLOGWs-bb_d"
      }
    },
    {
      "cell_type": "code",
      "execution_count": null,
      "metadata": {
        "id": "Y9W5SNJ3XCY3"
      },
      "outputs": [],
      "source": [
        "# Floor Division\n",
        "# results in an integer\n",
        "7//4"
      ]
    },
    {
      "cell_type": "code",
      "source": [
        "# results in an float (rounded to nearest integer)\n",
        "7.0//4"
      ],
      "metadata": {
        "id": "AOzOulhkcvrZ"
      },
      "execution_count": null,
      "outputs": []
    },
    {
      "cell_type": "markdown",
      "metadata": {
        "id": "Lxc_Kqa1XCY3"
      },
      "source": [
        "### Arithmetic continued"
      ]
    },
    {
      "cell_type": "markdown",
      "source": [
        "To square a number or muliply by a power, you use two asteriks instead of one (like for multiplication)"
      ],
      "metadata": {
        "id": "A91D1MxlbzCA"
      }
    },
    {
      "cell_type": "code",
      "execution_count": null,
      "metadata": {
        "id": "CeMWNDuqXCY3"
      },
      "outputs": [],
      "source": [
        "# Powers\n",
        "# this represents 2^3\n",
        "2**3"
      ]
    },
    {
      "cell_type": "code",
      "execution_count": null,
      "metadata": {
        "id": "rEMqWtL8XCY4"
      },
      "outputs": [],
      "source": [
        "# Can also do roots this way\n",
        "# same thing as square root of 4\n",
        "4**0.5"
      ]
    },
    {
      "cell_type": "markdown",
      "metadata": {
        "id": "47PyzbHpXCY4"
      },
      "source": [
        "### Order of Operations followed in Python"
      ]
    },
    {
      "cell_type": "markdown",
      "metadata": {
        "id": "oGSVfDEmXCY4"
      },
      "source": [
        "Python Operators Precedence Rule - PEMDAS\n",
        "\n",
        "    P – Parentheses.\n",
        "    E – Exponentiation.\n",
        "    M – Multiplication.\n",
        "    D – Division.\n",
        "    A – Addition.\n",
        "    S – Subtraction."
      ]
    },
    {
      "cell_type": "markdown",
      "metadata": {
        "id": "Dt9Zqc5_XCY4"
      },
      "source": [
        "In Python, the order of operations, also known as precedence rules, determines how an expression is evaluated. These rules are similar to the standard mathematical precedence rules. Understanding these rules is crucial for writing correct expressions and avoiding common bugs. Here's the list, from highest precedence to lowest:\n",
        "1. Parentheses ()\n",
        "\n",
        "    Used to override the standard precedence: expressions inside parentheses are evaluated first.\n",
        "\n",
        "2. Exponentiation **\n",
        "\n",
        "    Right-to-left associativity (e.g., 2 ** 3 ** 2 is interpreted as 2 ** (3 ** 2)).\n",
        "\n",
        "3. Unary Plus and Minus +x, -x\n",
        "\n",
        "    Unary plus and minus operators (not to be confused with addition and subtraction).\n",
        "\n",
        "4. Multiplication *, Division /, Floor Division //, Modulus %\n",
        "\n",
        "    Left-to-right associativity.\n",
        "\n",
        "5. Addition +, Subtraction -\n",
        "\n",
        "    Left-to-right associativity.\n",
        "\n",
        "6. Bitwise Shift Operators <<, >>\n",
        "\n",
        "    Left-to-right associativity.\n",
        "\n",
        "7. Bitwise AND &\n",
        "\n",
        "    Left-to-right associativity.\n",
        "\n",
        "8. Bitwise XOR ^\n",
        "\n",
        "    Left-to-right associativity.\n",
        "\n",
        "9. Bitwise OR |\n",
        "\n",
        "    Left-to-right associativity.\n",
        "\n",
        "10. Comparison Operators ==, !=, >, >=, <, <=, is, is not, in, not in\n",
        "\n",
        "    No associativity; comparisons yield True or False.\n",
        "\n",
        "11. Boolean NOT not\n",
        "\n",
        "    Unary operator with right-to-left associativity.\n",
        "\n",
        "12. Boolean AND and\n",
        "\n",
        "    Left-to-right associativity; short-circuit evaluation.\n",
        "\n",
        "13. Boolean OR or\n",
        "\n",
        "    Left-to-right associativity; short-circuit evaluation.\n",
        "\n",
        "14. Conditional Expressions\n",
        "\n",
        "    x if c else y (evaluate c first; evaluate x only if c is true, otherwise evaluate y).\n",
        "\n",
        "15. Assignment Operators =, +=, -=, *=, /=, etc.\n",
        "\n",
        "    Right-to-left associativity; assigns the value of the right expression to the left operand.\n",
        "    "
      ]
    },
    {
      "cell_type": "code",
      "execution_count": null,
      "metadata": {
        "id": "lX9oq2nTXCY4"
      },
      "outputs": [],
      "source": [
        "# Order of Operations followed in Python\n",
        "2 + 10 * 10 + 3"
      ]
    },
    {
      "cell_type": "code",
      "execution_count": null,
      "metadata": {
        "id": "tYjtC0HOXCY4"
      },
      "outputs": [],
      "source": [
        "# Can use parentheses to specify orders\n",
        "(2+10) * (10+3)"
      ]
    },
    {
      "cell_type": "markdown",
      "metadata": {
        "id": "fKF1k2vwXCY8"
      },
      "source": [
        "#################################################"
      ]
    },
    {
      "cell_type": "markdown",
      "metadata": {
        "id": "FP7juM3wXCY8"
      },
      "source": [
        "## Part 1 Exercises\n",
        "\n",
        "Now that we’ve been through the material for this section, here are a few exercises so that you can practice:\n"
      ]
    },
    {
      "cell_type": "code",
      "source": [
        "# print the year 2024"
      ],
      "metadata": {
        "id": "3ykue-kghKvb"
      },
      "execution_count": null,
      "outputs": []
    },
    {
      "cell_type": "code",
      "source": [
        "# calculate and print the number of days, weeks, and months in 27 years."
      ],
      "metadata": {
        "id": "srj76ikJhK4m"
      },
      "execution_count": null,
      "outputs": []
    },
    {
      "cell_type": "code",
      "execution_count": null,
      "metadata": {
        "id": "ZLRWNBwEXCY8"
      },
      "outputs": [],
      "source": [
        "# calculate and print the area of a circle with a radius of 5 units. You can be as accurate as you like with the value of pi."
      ]
    },
    {
      "cell_type": "code",
      "source": [
        "# without a package"
      ],
      "metadata": {
        "id": "qzzb4YuVeKZu"
      },
      "execution_count": null,
      "outputs": []
    },
    {
      "cell_type": "code",
      "source": [
        "# what type of data type will the output be? why?\n",
        "\n",
        "(2 * 2 * 2.0)//2"
      ],
      "metadata": {
        "id": "pq02dHyaeoSJ"
      },
      "execution_count": null,
      "outputs": []
    },
    {
      "cell_type": "code",
      "source": [
        "# what will be printed to the console? why?\n",
        "# your answer here:\n",
        "(2 * 2 * 2.0)//2\n",
        "10"
      ],
      "metadata": {
        "id": "pmet8b8ieoZz"
      },
      "execution_count": null,
      "outputs": []
    },
    {
      "cell_type": "code",
      "source": [
        "# what will be printed to the console? why?\n",
        "# your answer here:\n",
        "print((2 * 2 * 2.0)//2)\n",
        "print(10)\n"
      ],
      "metadata": {
        "id": "OnU6B6FueocS"
      },
      "execution_count": null,
      "outputs": []
    },
    {
      "cell_type": "code",
      "source": [
        "# what will be printed to the console? why?\n",
        "# your answer here:\n",
        "print(((2 * 2 * 2.0)//2), 10)\n"
      ],
      "metadata": {
        "id": "k_uD4DnMfdw3"
      },
      "execution_count": null,
      "outputs": []
    },
    {
      "cell_type": "code",
      "source": [
        "# use every part of PEDMAS in one line to create an output\n"
      ],
      "metadata": {
        "id": "RqOTaz8jeofC"
      },
      "execution_count": null,
      "outputs": []
    },
    {
      "cell_type": "code",
      "source": [
        "# print the output of two separate equations on the same line with TWO SEPARATE print statements\n"
      ],
      "metadata": {
        "id": "to4oxou9eohy"
      },
      "execution_count": null,
      "outputs": []
    },
    {
      "cell_type": "code",
      "source": [
        "# print the output of two separate equations on the same line with one print statement"
      ],
      "metadata": {
        "id": "u-atKRU5gXpV"
      },
      "execution_count": null,
      "outputs": []
    },
    {
      "cell_type": "code",
      "source": [
        "# print a five times"
      ],
      "metadata": {
        "id": "TV9oiC6lhs2C"
      },
      "execution_count": null,
      "outputs": []
    },
    {
      "cell_type": "code",
      "source": [
        "# print the smallest prime number and then take it to the power of 100"
      ],
      "metadata": {
        "id": "RlHASwq0htD5"
      },
      "execution_count": null,
      "outputs": []
    },
    {
      "cell_type": "code",
      "source": [
        "# what will be the output of the following and why?\n",
        "print(2) + print(3)"
      ],
      "metadata": {
        "id": "OBO5OOdxhtMw"
      },
      "execution_count": null,
      "outputs": []
    },
    {
      "cell_type": "markdown",
      "source": [
        "Go to the following Python documentation and find parameter(s) we haven't used in the print function. Use one or more in an example below. https://docs.python.org/3/library/functions.html#print.\n",
        "\n",
        "Example parameters: sep or end"
      ],
      "metadata": {
        "id": "4Cxr9ViUrYc6"
      }
    },
    {
      "cell_type": "code",
      "source": [
        "# your demonstration here"
      ],
      "metadata": {
        "id": "vTFLRqqIr9DM"
      },
      "execution_count": null,
      "outputs": []
    },
    {
      "cell_type": "markdown",
      "metadata": {
        "id": "rfy1P4XNXCY9"
      },
      "source": [
        "#################################################"
      ]
    },
    {
      "cell_type": "markdown",
      "metadata": {
        "id": "ejZ565-KXCY9"
      },
      "source": [
        "## Part 2 - Variable Assignments\n",
        "\n",
        "Up to this point, we have not stored anything in memory. Everything we have printed or calculated has been \"one and done\". We would have to rerun the print statements or calculations every time in order to see the values we want.\n",
        "\n",
        "In comes variables. In Python, a variable is a symbolic name that refers to a value stored in the computer's memory. Variables allow you to store, modify, and access data throughout your code. You can make a calculation, store the result and access it later without having to recalculate the value.\n",
        "\n",
        "Use a single equals sign to assign labels to variables."
      ]
    },
    {
      "cell_type": "code",
      "execution_count": null,
      "metadata": {
        "tags": [],
        "id": "EVhONYUaXCY9"
      },
      "outputs": [],
      "source": [
        "# Let's create an object called \"a\" and assign it the number 5\n",
        "a = 5"
      ]
    },
    {
      "cell_type": "code",
      "source": [
        "a"
      ],
      "metadata": {
        "id": "URlbk_uMjLDc"
      },
      "execution_count": null,
      "outputs": []
    },
    {
      "cell_type": "code",
      "source": [
        "print(a)"
      ],
      "metadata": {
        "id": "faljkZ73jMJa"
      },
      "execution_count": null,
      "outputs": []
    },
    {
      "cell_type": "markdown",
      "metadata": {
        "id": "xd31cMUzXCY9"
      },
      "source": [
        "Now if I call *a* in my Python script, Python will treat it as the number 5."
      ]
    },
    {
      "cell_type": "code",
      "execution_count": null,
      "metadata": {
        "id": "ExB9ohoaXCY9"
      },
      "outputs": [],
      "source": [
        "# Adding the objects\n",
        "a+a"
      ]
    },
    {
      "cell_type": "markdown",
      "metadata": {
        "id": "RK5eeWQlXCY9"
      },
      "source": [
        "What happens on reassignment?"
      ]
    },
    {
      "cell_type": "code",
      "execution_count": null,
      "metadata": {
        "tags": [],
        "id": "m7qqs4ZjXCY9"
      },
      "outputs": [],
      "source": [
        "# Reassignment\n",
        "a = 10"
      ]
    },
    {
      "cell_type": "code",
      "execution_count": null,
      "metadata": {
        "id": "kpaZSUx_XCY9"
      },
      "outputs": [],
      "source": [
        "# Check\n",
        "a"
      ]
    },
    {
      "cell_type": "markdown",
      "metadata": {
        "id": "xKGPo1VIXCY9"
      },
      "source": [
        "Python allows you to write over assigned variable names."
      ]
    },
    {
      "cell_type": "code",
      "execution_count": null,
      "metadata": {
        "id": "SjNRIPMMXCY9"
      },
      "outputs": [],
      "source": [
        "# Check\n",
        "a"
      ]
    },
    {
      "cell_type": "code",
      "execution_count": null,
      "metadata": {
        "tags": [],
        "id": "qR4NZJOCXCY9"
      },
      "outputs": [],
      "source": [
        "# Use A to redefine A\n",
        "a = a + a"
      ]
    },
    {
      "cell_type": "code",
      "execution_count": null,
      "metadata": {
        "id": "F_EvGvBDXCY9"
      },
      "outputs": [],
      "source": [
        "# Check\n",
        "a"
      ]
    },
    {
      "cell_type": "markdown",
      "source": [
        "One of the most common mistakes is overwriting variables at some point in a notebook or Python script without realizing it.\n",
        "\n",
        "When needing to keep track of previous variables in a process, just create new variables as you go!"
      ],
      "metadata": {
        "id": "5VneuQlEjZAI"
      }
    },
    {
      "cell_type": "code",
      "source": [
        "a = 5\n",
        "b = a + a\n",
        "c = b + b\n",
        "\n",
        "print(a)\n",
        "print(b)\n",
        "print(c)"
      ],
      "metadata": {
        "id": "yo9W_hrHjpvQ"
      },
      "execution_count": null,
      "outputs": []
    },
    {
      "cell_type": "markdown",
      "source": [
        "Be careful about what and how you include Python in your cells. For example, if you separate code into different cells, make sure you rerun all relevant cells or restart your Kernel, otherwise variables could potentially compound."
      ],
      "metadata": {
        "id": "2FMOCPYKkhlf"
      }
    },
    {
      "cell_type": "code",
      "source": [
        "# compounding variable\n",
        "a = a + 10\n",
        "\n",
        "# why is this different every time we run the cell?\n",
        "print(a)"
      ],
      "metadata": {
        "id": "sBM7VlLpkykF"
      },
      "execution_count": null,
      "outputs": []
    },
    {
      "cell_type": "markdown",
      "metadata": {
        "id": "QTF-RASfXCY9"
      },
      "source": [
        "# Rules for variable names\n",
        "The names you use when creating these labels need to follow a few rules:\n",
        "\n",
        "    1. Names can not start with a number.\n",
        "    2. There can be no spaces in the name, use _ instead.\n",
        "    3. Can't use any of these symbols :'\",<>/?|\\()!@#$%^&*~-+\n",
        "    4. It's considered best practice (PEP8) that names are lowercase.\n",
        "    5. Avoid using the characters 'l' (lowercase letter el), 'O' (uppercase letter oh),\n",
        "       or 'I' (uppercase letter eye) as single character variable names.\n",
        "    6. Avoid using words that have special meaning in Python like \"list\" and \"str\"\n",
        "\n",
        "\n",
        "Using variable names can be a very useful way to keep track of different variables in Python. For example:\n",
        "\n",
        "* names can not start with a number\n",
        "* names can not contain spaces, use _ intead\n",
        "* names can not contain any of these symbols:\n",
        "\n",
        "\n",
        "      :'\",<>/?|\\!@#%^&*~-+\n",
        "       \n",
        "* it's considered best practice ([PEP8](https://www.python.org/dev/peps/pep-0008/#function-and-variable-names)) that names are lowercase with underscores\n",
        "* avoid using Python built-in keywords like `list` and `str`\n",
        "* avoid using the single characters `l` (lowercase letter el), `O` (uppercase letter oh) and `I` (uppercase letter eye) as they can be confused with `1` and `0`"
      ]
    },
    {
      "cell_type": "markdown",
      "source": [
        "Variable names should be intuitive and descriptive of what is being stored.\n",
        "\n",
        "For example, tax_rate is a better variable name than t_r8."
      ],
      "metadata": {
        "id": "_OIrFRmzkF6V"
      }
    },
    {
      "cell_type": "code",
      "execution_count": null,
      "metadata": {
        "collapsed": true,
        "jupyter": {
          "outputs_hidden": true
        },
        "id": "sRRsVBtFXCY9"
      },
      "outputs": [],
      "source": [
        "# Use object names to keep better track of what's going on in your code!\n",
        "my_purchase = 100\n",
        "\n",
        "tax_rate = 0.06\n",
        "\n",
        "# nothing will be displayed - remember?\n",
        "my_taxes = my_purchase*tax_rate"
      ]
    },
    {
      "cell_type": "code",
      "execution_count": null,
      "metadata": {
        "id": "9KROqh19XCY9"
      },
      "outputs": [],
      "source": [
        "# Show my taxes!\n",
        "my_taxes"
      ]
    },
    {
      "cell_type": "markdown",
      "metadata": {
        "id": "oD4nOkp4XCY9"
      },
      "source": [
        "## Dynamic Typing\n",
        "\n",
        "Python uses *dynamic typing*, meaning you can reassign variables to different data types. This makes Python very flexible in assigning data types; it differs from other languages that are *statically typed*."
      ]
    },
    {
      "cell_type": "code",
      "execution_count": null,
      "metadata": {
        "id": "H34L7nbIXCY9"
      },
      "outputs": [],
      "source": [
        "best_friends = 2"
      ]
    },
    {
      "cell_type": "code",
      "execution_count": null,
      "metadata": {
        "id": "0rVsurvGXCY-"
      },
      "outputs": [],
      "source": [
        "best_friends"
      ]
    },
    {
      "cell_type": "code",
      "execution_count": null,
      "metadata": {
        "id": "-c3PpEWZXCY-"
      },
      "outputs": [],
      "source": [
        "# this over writes the previous variable\n",
        "# this is a list of strings (more to come)\n",
        "best_friends = ['Ghost', 'Pepper']"
      ]
    },
    {
      "cell_type": "code",
      "execution_count": null,
      "metadata": {
        "id": "5YShD8EIXCY-"
      },
      "outputs": [],
      "source": [
        "# print the new variable\n",
        "best_friends"
      ]
    },
    {
      "cell_type": "markdown",
      "metadata": {
        "id": "FV2wR0tcXCY-"
      },
      "source": [
        "## Assigning Variables\n",
        "Variable assignment follows `name = object`, where a single equals sign `=` is an *assignment operator*"
      ]
    },
    {
      "cell_type": "code",
      "execution_count": null,
      "metadata": {
        "id": "V1S7y4xoXCY-"
      },
      "outputs": [],
      "source": [
        "a = 8"
      ]
    },
    {
      "cell_type": "code",
      "execution_count": null,
      "metadata": {
        "id": "dYZwOr42XCY-"
      },
      "outputs": [],
      "source": [
        "a"
      ]
    },
    {
      "cell_type": "markdown",
      "metadata": {
        "id": "lTMDPxWuXCY-"
      },
      "source": [
        "we can assign `a` to something else:"
      ]
    },
    {
      "cell_type": "code",
      "execution_count": null,
      "metadata": {
        "id": "_p5yeP53XCY-"
      },
      "outputs": [],
      "source": [
        "a = 12"
      ]
    },
    {
      "cell_type": "code",
      "execution_count": null,
      "metadata": {
        "id": "hbqejWI2XCY-"
      },
      "outputs": [],
      "source": [
        "a"
      ]
    },
    {
      "cell_type": "markdown",
      "metadata": {
        "id": "guIxrwTpXCY-"
      },
      "source": [
        "You can now use `a` in place of the number `10`:"
      ]
    },
    {
      "cell_type": "code",
      "execution_count": null,
      "metadata": {
        "id": "KEgq0uUfXCY-"
      },
      "outputs": [],
      "source": [
        "a + a"
      ]
    },
    {
      "cell_type": "markdown",
      "metadata": {
        "id": "39Vut4hFXCY-"
      },
      "source": [
        "## Reassigning Variables\n",
        "Python lets you reassign variables with a reference to the same object."
      ]
    },
    {
      "cell_type": "code",
      "execution_count": null,
      "metadata": {
        "id": "-58sevPRXCY-"
      },
      "outputs": [],
      "source": [
        "a = a + 38"
      ]
    },
    {
      "cell_type": "code",
      "execution_count": null,
      "metadata": {
        "id": "N4XarwO0XCY-"
      },
      "outputs": [],
      "source": [
        "a"
      ]
    },
    {
      "cell_type": "markdown",
      "metadata": {
        "id": "ocNEMzi6XCY-"
      },
      "source": [
        "# String Formatting\n",
        "\n",
        "String formatting is a way to display information as text.\n",
        "\n",
        "String formatting lets you inject items into a string rather than trying to chain items together using commas or string concatenation. As a quick comparison, consider:\n",
        "\n",
        "    student1 = 'Alex'\n",
        "    Grade = 90\n",
        "    \n",
        "    'Last semester, '+student1+' got '+str(Grade)+' in the exam.'  # concatenation\n",
        "    \n",
        "    f'Last semester, {student1} got {Grade} in exam.'          # string formatting\n"
      ]
    },
    {
      "cell_type": "code",
      "execution_count": null,
      "metadata": {
        "id": "JsneEsEzXCY-"
      },
      "outputs": [],
      "source": [
        "# example variable holding string data\n",
        "student1 = 'Alex'\n",
        "\n",
        "# variable holding an integer\n",
        "Grade = 90\n",
        "\n",
        "# string formatting via concatenation\n",
        "'Last semester, '+student1+' got a '+str(Grade)+' on the exam.'  # concatenation"
      ]
    },
    {
      "cell_type": "markdown",
      "source": [
        "An f-string, or formatted string literal, is a way to embed expressions inside string literals using curly braces {}. Introduced in Python 3.6, f-strings provide a concise and readable way to include variable values and expressions within strings."
      ],
      "metadata": {
        "id": "22j7yi7YoKNF"
      }
    },
    {
      "cell_type": "code",
      "execution_count": null,
      "metadata": {
        "id": "OzyEauxgXCY-"
      },
      "outputs": [],
      "source": [
        "f'Last semester, {student1} got {Grade} in exam.'  # string formatting"
      ]
    },
    {
      "cell_type": "markdown",
      "metadata": {
        "id": "VCUGc5SIXCY-"
      },
      "source": [
        "\n",
        "There are three ways to perform string formatting.\n",
        "* The oldest method involves placeholders using the modulo `%` character.\n",
        "* An improved technique uses the `.format()` string method.\n",
        "* The newest method, introduced with Python 3.6, uses formatted string literals, called *f-strings*.\n",
        "\n",
        "Since you will likely encounter all three versions in someone else's code, we describe each of them here."
      ]
    },
    {
      "cell_type": "markdown",
      "metadata": {
        "id": "0g9qoF7vXCY_"
      },
      "source": [
        "## Formatted String Literals (f-strings)"
      ]
    },
    {
      "cell_type": "markdown",
      "metadata": {
        "id": "eSbjKIW-XCY_"
      },
      "source": [
        "Introduced in Python 3.6, f-strings offer several benefits over the older `.format()` string method.\n",
        "\n",
        "We can bring outside variables immediately into to the string rather than pass them as arguments through `.format(var)`."
      ]
    },
    {
      "cell_type": "code",
      "execution_count": null,
      "metadata": {
        "id": "YdTJgRfaXCY_"
      },
      "outputs": [],
      "source": [
        "name = 'Jennifer'\n",
        "\n",
        "# most common method of string formatting\n",
        "print(f\"She said her name is {name}.\")"
      ]
    },
    {
      "cell_type": "markdown",
      "metadata": {
        "id": "hv-uKAxpXCY_"
      },
      "source": [
        "Pass `!r` to get the string representation:"
      ]
    },
    {
      "cell_type": "code",
      "execution_count": null,
      "metadata": {
        "id": "Wg4MsC_OXCY_"
      },
      "outputs": [],
      "source": [
        "# I am yet to see this somewhere other than this class\n",
        "print(f\"He said his name is {name!r}\")"
      ]
    },
    {
      "cell_type": "markdown",
      "metadata": {
        "id": "ZOFDUQYrXCY_"
      },
      "source": [
        "# Strings"
      ]
    },
    {
      "cell_type": "markdown",
      "metadata": {
        "id": "7YRAOsXTXCY_"
      },
      "source": [
        "Strings are used in Python to record text information, such as names.\n",
        "\n",
        "Strings in Python are actually a *sequence*, which basically means Python keeps track of every element in the string as a sequence."
      ]
    },
    {
      "cell_type": "markdown",
      "metadata": {
        "id": "4-a_cXCVXCY_"
      },
      "source": [
        "## Creating a String\n",
        "To create a string in Python you need to use either single quotes or double quotes. For example:"
      ]
    },
    {
      "cell_type": "code",
      "execution_count": null,
      "metadata": {
        "id": "j0oEtm3iXCY_"
      },
      "outputs": [],
      "source": [
        "# Single word\n",
        "'hello'"
      ]
    },
    {
      "cell_type": "code",
      "source": [
        "# this won't print anything, remember?\n",
        "a = 'string'"
      ],
      "metadata": {
        "id": "lCrQssEAo14Z"
      },
      "execution_count": null,
      "outputs": []
    },
    {
      "cell_type": "code",
      "source": [
        "print(a)"
      ],
      "metadata": {
        "id": "gMcQAMIwo6OE"
      },
      "execution_count": null,
      "outputs": []
    },
    {
      "cell_type": "code",
      "execution_count": null,
      "metadata": {
        "id": "OvsrDiDSXCY_"
      },
      "outputs": [],
      "source": [
        "# Entire phrase\n",
        "'This is also a string'"
      ]
    },
    {
      "cell_type": "code",
      "execution_count": null,
      "metadata": {
        "id": "5qIgLbduXCY_"
      },
      "outputs": [],
      "source": [
        "# We can also use double quote\n",
        "\"String built with double quotes\""
      ]
    },
    {
      "cell_type": "code",
      "execution_count": null,
      "metadata": {
        "id": "MYUes5plXCY_"
      },
      "outputs": [],
      "source": [
        "# Be careful with quotes!\n",
        "' I'm using single quotes, but this will create an error'"
      ]
    },
    {
      "cell_type": "markdown",
      "metadata": {
        "id": "Mict0qJgXCY_"
      },
      "source": [
        "The reason for the error above is because the single quote in <code>I'm</code> stopped the string. You can use combinations of double and single quotes to get the complete statement."
      ]
    },
    {
      "cell_type": "code",
      "source": [
        "# Be careful with quotes!\n",
        "\"I'm using single quotes, but this won't create an error\""
      ],
      "metadata": {
        "id": "Rv7otS_Jo_Du"
      },
      "execution_count": null,
      "outputs": []
    },
    {
      "cell_type": "code",
      "source": [
        "# Be careful with quotes!\n",
        "' I\"m using single quotes, but this won\"t create an error'"
      ],
      "metadata": {
        "id": "GyUdXlPFpEXp"
      },
      "execution_count": null,
      "outputs": []
    },
    {
      "cell_type": "markdown",
      "metadata": {
        "id": "FlCl26TXXCY_"
      },
      "source": [
        "Now let's learn about printing strings!"
      ]
    },
    {
      "cell_type": "markdown",
      "metadata": {
        "id": "bxgtcbtvXCY_"
      },
      "source": [
        "## Printing a String\n",
        "\n",
        "Using Jupyter notebook with just a string in a cell will automatically output strings, but the correct way to display strings in your output is by using a print function."
      ]
    },
    {
      "cell_type": "code",
      "execution_count": null,
      "metadata": {
        "id": "FJ7I35JbXCY_"
      },
      "outputs": [],
      "source": [
        "# We can simply declare a string\n",
        "'Hello World'"
      ]
    },
    {
      "cell_type": "code",
      "execution_count": null,
      "metadata": {
        "id": "RUHurUt0XCY_"
      },
      "outputs": [],
      "source": [
        "# Note that we can't output multiple strings this way\n",
        "'Hello World 1'\n",
        "'Hello World 2'"
      ]
    },
    {
      "cell_type": "markdown",
      "metadata": {
        "id": "cTYKbklxXCZA"
      },
      "source": [
        "We can use a print statement to print a string."
      ]
    },
    {
      "cell_type": "code",
      "execution_count": null,
      "metadata": {
        "id": "1mXQgCfzXCZA"
      },
      "outputs": [],
      "source": [
        "print('Hello World 1')\n",
        "print('Hello World 2')\n",
        "print('Use \\n to print a new line')\n",
        "print('\\n')\n",
        "print('See what I mean?')"
      ]
    },
    {
      "cell_type": "markdown",
      "metadata": {
        "id": "o0aSpD6YXCZA"
      },
      "source": [
        "## String Basics"
      ]
    },
    {
      "cell_type": "markdown",
      "metadata": {
        "id": "EqnvGakhXCZA"
      },
      "source": [
        "We can also use a function called len() to check the length of a string!\n",
        "\n",
        "Len documentation: https://docs.python.org/3/library/functions.html#len\n"
      ]
    },
    {
      "cell_type": "code",
      "execution_count": null,
      "metadata": {
        "id": "1PHXpjpsXCZA"
      },
      "outputs": [],
      "source": [
        "len('Hello World')"
      ]
    },
    {
      "cell_type": "markdown",
      "metadata": {
        "id": "aWkkC9r1XCZA"
      },
      "source": [
        "Python's built-in len() function counts all of the characters in the string, including spaces and punctuation."
      ]
    },
    {
      "cell_type": "markdown",
      "metadata": {
        "id": "jsufdFlAXCZA"
      },
      "source": [
        "## String Indexing\n",
        "We know strings are a sequence, which means Python can use indexes to call parts of the sequence. Let's learn how this works.\n",
        "\n",
        "In Python, we use brackets <code>[]</code> after an object to call its index. We should also note that INDEXING STARTS at 0 for Python. Let's create a new object called <code>s</code> and then walk through a few examples of indexing."
      ]
    },
    {
      "cell_type": "code",
      "execution_count": null,
      "metadata": {
        "id": "4M-HBIMKXCZA"
      },
      "outputs": [],
      "source": [
        "# Assign s as a string\n",
        "s = 'Hello World'"
      ]
    },
    {
      "cell_type": "code",
      "execution_count": null,
      "metadata": {
        "id": "NWtlV1a4XCZA"
      },
      "outputs": [],
      "source": [
        "#Check\n",
        "s"
      ]
    },
    {
      "cell_type": "code",
      "execution_count": null,
      "metadata": {
        "id": "9qc1K44rXCZA"
      },
      "outputs": [],
      "source": [
        "# Print the object\n",
        "print(s)"
      ]
    },
    {
      "cell_type": "markdown",
      "metadata": {
        "id": "rpV4yWrjXCZA"
      },
      "source": [
        "Let's start indexing!"
      ]
    },
    {
      "cell_type": "code",
      "execution_count": null,
      "metadata": {
        "id": "vexW_2P4XCZA"
      },
      "outputs": [],
      "source": [
        "# Show first element (in this case a letter)\n",
        "s[0]"
      ]
    },
    {
      "cell_type": "code",
      "execution_count": null,
      "metadata": {
        "id": "sih6-aZrXCZA"
      },
      "outputs": [],
      "source": [
        "s[1]"
      ]
    },
    {
      "cell_type": "code",
      "execution_count": null,
      "metadata": {
        "id": "IKyjifJ4XCZA"
      },
      "outputs": [],
      "source": [
        "s[2]"
      ]
    },
    {
      "cell_type": "markdown",
      "metadata": {
        "id": "dy7yCyUoXCZA"
      },
      "source": [
        "### String Slicing\n",
        "\n",
        "We can use a\n",
        "\n",
        "```\n",
        "string[start:stop:step]\n",
        "```\n",
        "\n",
        "\n",
        "to perform *slicing* which grabs everything up to a designated point.\n",
        "\n",
        "Parameters\n",
        "\n",
        "start: The index where the slice begins. If omitted, the slice starts from the beginning of the string.\n",
        "\n",
        "stop: The index where the slice ends (not inclusive). If omitted, the slice goes until the end of the string.\n",
        "\n",
        "step: The step value specifies the increment between each index for the slice. If omitted, the default is 1."
      ]
    },
    {
      "cell_type": "code",
      "execution_count": null,
      "metadata": {
        "id": "-6oixA_sXCZA"
      },
      "outputs": [],
      "source": [
        "# Grab everything past the first term all the way to the length of s which is len(s)\n",
        "s[1:]"
      ]
    },
    {
      "cell_type": "code",
      "execution_count": null,
      "metadata": {
        "id": "xuZyfgrxXCZA"
      },
      "outputs": [],
      "source": [
        "# Note that there is no change to the original s. We are just grabbing and displaying what we want\n",
        "s"
      ]
    },
    {
      "cell_type": "code",
      "execution_count": null,
      "metadata": {
        "id": "-MU7Ju8nXCZB"
      },
      "outputs": [],
      "source": [
        "# Grab everything UP TO the 3rd index\n",
        "s[:3]"
      ]
    },
    {
      "cell_type": "markdown",
      "metadata": {
        "id": "kM3Oj2NfXCZB"
      },
      "source": [
        "Note the above slicing. Here we're telling Python to grab everything from 0 up to 3. It doesn't include the 3rd index. You'll notice this a lot in Python, where statements and are usually in the context of \"up to, but not including\"."
      ]
    },
    {
      "cell_type": "code",
      "source": [
        "# start at the beginning\n",
        "# end at character 10\n",
        "# step every 1 character (so don't skip any)\n",
        "s[0:11:1]"
      ],
      "metadata": {
        "id": "RCaMdaIOtMYI"
      },
      "execution_count": null,
      "outputs": []
    },
    {
      "cell_type": "code",
      "source": [
        "# gimme every other character\n",
        "s[0:11:2]"
      ],
      "metadata": {
        "id": "TAQzhfy8td7X"
      },
      "execution_count": null,
      "outputs": []
    },
    {
      "cell_type": "markdown",
      "source": [
        "If end points are not specified, it is assumed you want everything."
      ],
      "metadata": {
        "id": "qz5A3_BKuKle"
      }
    },
    {
      "cell_type": "code",
      "execution_count": null,
      "metadata": {
        "id": "qC92PyeLXCZB"
      },
      "outputs": [],
      "source": [
        "#Everything\n",
        "s[:]"
      ]
    },
    {
      "cell_type": "markdown",
      "metadata": {
        "id": "e1bZV50WXCZB"
      },
      "source": [
        "We can also use negative indexing to go backwards."
      ]
    },
    {
      "cell_type": "code",
      "execution_count": null,
      "metadata": {
        "id": "f8zVGH9fXCZB"
      },
      "outputs": [],
      "source": [
        "# Last letter (one index behind 0 so it loops back around)\n",
        "# will return the LAST character in the string\n",
        "s[-1]"
      ]
    },
    {
      "cell_type": "code",
      "execution_count": null,
      "metadata": {
        "id": "tzWlwrGIXCZB"
      },
      "outputs": [],
      "source": [
        "# Grab everything but the last letter\n",
        "s[:-1]"
      ]
    },
    {
      "cell_type": "markdown",
      "source": [
        "Why? The slice s[:-1] in Python means \"take all elements of the string s from the beginning up to, but not including, the last character.\""
      ],
      "metadata": {
        "id": "biGHRXg7ubq4"
      }
    },
    {
      "cell_type": "markdown",
      "metadata": {
        "id": "rLYKPSAoXCZB"
      },
      "source": [
        "We can also use index and slice notation to grab elements of a sequence by a specified step size (the default is 1). For instance we can use two colons in a row and then a number specifying the frequency to grab elements. For example:"
      ]
    },
    {
      "cell_type": "code",
      "execution_count": null,
      "metadata": {
        "id": "ioxQFcpKXCZB"
      },
      "outputs": [],
      "source": [
        "# Grab everything, but go in steps size of 1\n",
        "s[::1]"
      ]
    },
    {
      "cell_type": "code",
      "execution_count": null,
      "metadata": {
        "id": "9ouzlwgPXCZB"
      },
      "outputs": [],
      "source": [
        "# Grab everything, but go in step sizes of 2\n",
        "s[::2]"
      ]
    },
    {
      "cell_type": "code",
      "execution_count": null,
      "metadata": {
        "id": "T4KMQZDbXCZB"
      },
      "outputs": [],
      "source": [
        "# We can use this to print a string backwards\n",
        "# when specifying steps, positive means forward and negative means reverse\n",
        "s[::-1]"
      ]
    },
    {
      "cell_type": "markdown",
      "source": [
        "## Mutability"
      ],
      "metadata": {
        "id": "FU9P3dsxu5V_"
      }
    },
    {
      "cell_type": "markdown",
      "source": [
        "In Python, data types can be categorized as mutable or immutable based on whether their values can be changed after they are created.\n",
        "\n",
        "### Immutable Data Types\n",
        "\n",
        "Immutable data types are those whose values cannot be modified after they are created. Any operation that changes the value of an immutable object will create a new object.\n",
        "\n",
        "1. **Numbers**:\n",
        "   - `int`\n",
        "   - `float`\n",
        "   - `complex`\n",
        "   - `bool`\n",
        "   ```python\n",
        "   a = 5\n",
        "   a = a + 1  # Creates a new int object with value 6\n",
        "   ```\n",
        "\n",
        "2. **Strings** (`str`):\n",
        "   ```python\n",
        "   s = \"hello\"\n",
        "   s = s + \" world\"  # Creates a new string object \"hello world\"\n",
        "   ```\n",
        "\n",
        "3. **Tuples** (`tuple`):\n",
        "   ```python\n",
        "   t = (1, 2, 3)\n",
        "   t = t + (4,)  # Creates a new tuple (1, 2, 3, 4)\n",
        "   ```\n",
        "\n",
        "4. **Frozen Sets** (`frozenset`):\n",
        "   ```python\n",
        "   fs = frozenset([1, 2, 3])\n",
        "   # fs.add(4)  # This would raise an AttributeError\n",
        "   ```\n",
        "\n",
        "### Mutable Data Types\n",
        "\n",
        "Mutable data types are those whose values can be changed after they are created. These types allow for in-place modification.\n",
        "\n",
        "1. **Lists** (`list`):\n",
        "   ```python\n",
        "   lst = [1, 2, 3]\n",
        "   lst.append(4)  # Modifies the original list to [1, 2, 3, 4]\n",
        "   ```\n",
        "\n",
        "2. **Dictionaries** (`dict`):\n",
        "   ```python\n",
        "   d = {\"a\": 1, \"b\": 2}\n",
        "   d[\"c\"] = 3  # Modifies the original dictionary to {'a': 1, 'b': 2, 'c': 3}\n",
        "   ```\n",
        "\n",
        "3. **Sets** (`set`):\n",
        "   ```python\n",
        "   s = {1, 2, 3}\n",
        "   s.add(4)  # Modifies the original set to {1, 2, 3, 4}\n",
        "   ```\n",
        "\n",
        "4. **Byte Arrays** (`bytearray`):\n",
        "   ```python\n",
        "   b = bytearray(b\"hello\")\n",
        "   b[0] = ord('H')  # Modifies the original bytearray to bytearray(b'Hello')\n",
        "   ```\n",
        "\n",
        "### Summary\n",
        "\n",
        "- **Immutable Data Types**: `int`, `float`, `complex`, `bool`, `str`, `tuple`, `frozenset`\n",
        "- **Mutable Data Types**: `list`, `dict`, `set`, `bytearray`\n",
        "\n",
        "Understanding whether a data type is mutable or immutable is important because it affects how variables and objects behave when they are passed to functions, assigned to new variables, or modified. Mutable types can be changed in place, which can lead to side effects if not handled carefully, while immutable types provide stability and predictability."
      ],
      "metadata": {
        "id": "Olue32msvCi8"
      }
    },
    {
      "cell_type": "markdown",
      "metadata": {
        "id": "n0PfwH8iXCZB"
      },
      "source": [
        "## String Properties\n",
        "It's important to note that strings have an important property known as *immutability*. This means that once a string is created, the elements within it can not be changed or replaced. For example:"
      ]
    },
    {
      "cell_type": "code",
      "execution_count": null,
      "metadata": {
        "id": "Ld4BWkiHXCZB"
      },
      "outputs": [],
      "source": [
        "s"
      ]
    },
    {
      "cell_type": "code",
      "execution_count": null,
      "metadata": {
        "id": "QXXMcm6KXCZB"
      },
      "outputs": [],
      "source": [
        "# Let's try to change the first letter to 'x'\n",
        "s[0] = 'x'"
      ]
    },
    {
      "cell_type": "code",
      "source": [
        "# however we could create a new variable or overwrite s to make the change\n",
        "new_s = 'x' + s[1:]\n",
        "print(new_s)"
      ],
      "metadata": {
        "id": "thGjb5ZMvg2B"
      },
      "execution_count": null,
      "outputs": []
    },
    {
      "cell_type": "markdown",
      "metadata": {
        "id": "WZuQgqrfXCZB"
      },
      "source": [
        "Notice how the error tells us directly what we can't do, change the item assignment!\n",
        "\n",
        "Something we *can* do is concatenate strings!"
      ]
    },
    {
      "cell_type": "code",
      "execution_count": null,
      "metadata": {
        "id": "wY1hAz_qXCZB"
      },
      "outputs": [],
      "source": [
        "s"
      ]
    },
    {
      "cell_type": "code",
      "execution_count": null,
      "metadata": {
        "id": "wwHPL5_eXCZB"
      },
      "outputs": [],
      "source": [
        "# Concatenate strings!\n",
        "s + ' concatenate me!'"
      ]
    },
    {
      "cell_type": "code",
      "execution_count": null,
      "metadata": {
        "id": "2HU0fueWXCZB"
      },
      "outputs": [],
      "source": [
        "# We can reassign s completely though!\n",
        "s = s + ' concatenate me!'"
      ]
    },
    {
      "cell_type": "code",
      "execution_count": null,
      "metadata": {
        "id": "sOcWIeESXCZB"
      },
      "outputs": [],
      "source": [
        "print(s)"
      ]
    },
    {
      "cell_type": "code",
      "execution_count": null,
      "metadata": {
        "id": "u5RC5x-iXCZB"
      },
      "outputs": [],
      "source": [
        "s"
      ]
    },
    {
      "cell_type": "markdown",
      "metadata": {
        "id": "yxBpzDe2XCZC"
      },
      "source": [
        "We can use the multiplication symbol to create repetition!"
      ]
    },
    {
      "cell_type": "code",
      "execution_count": null,
      "metadata": {
        "id": "k_kBn3pEXCZC"
      },
      "outputs": [],
      "source": [
        "letter = 'z'"
      ]
    },
    {
      "cell_type": "code",
      "execution_count": null,
      "metadata": {
        "id": "uA-htXi-XCZC"
      },
      "outputs": [],
      "source": [
        "letter*10"
      ]
    },
    {
      "cell_type": "markdown",
      "metadata": {
        "id": "vOlzc0JcXCZC"
      },
      "source": [
        "## Basic Built-in String methods\n",
        "\n",
        "Objects in Python usually have built-in methods. These methods are functions inside the object (we will learn about these in much more depth later) that can perform actions or commands on the object itself."
      ]
    },
    {
      "cell_type": "code",
      "execution_count": null,
      "metadata": {
        "id": "78SEkWOuXCZC"
      },
      "outputs": [],
      "source": [
        "s"
      ]
    },
    {
      "cell_type": "code",
      "execution_count": null,
      "metadata": {
        "id": "vRN3iGoLXCZC"
      },
      "outputs": [],
      "source": [
        "# Upper Case a string\n",
        "s.upper()"
      ]
    },
    {
      "cell_type": "code",
      "execution_count": null,
      "metadata": {
        "id": "pOjTFzh2XCZC"
      },
      "outputs": [],
      "source": [
        "# Lower case\n",
        "s.lower()"
      ]
    },
    {
      "cell_type": "code",
      "execution_count": null,
      "metadata": {
        "id": "wi8KSYscXCZC"
      },
      "outputs": [],
      "source": [
        "# Split a string by blank space (this is the default)\n",
        "s.split()"
      ]
    },
    {
      "cell_type": "code",
      "execution_count": null,
      "metadata": {
        "id": "cUeByQwhXCZC"
      },
      "outputs": [],
      "source": [
        "# Split by a specific element (doesn't include the element that was split on)\n",
        "s.split('W')"
      ]
    },
    {
      "cell_type": "code",
      "source": [
        "# typing in s. following by either a pauses or by pressing tab should display available methods (depends on the environment)\n",
        "s."
      ],
      "metadata": {
        "id": "lXJJyD0gwKzn"
      },
      "execution_count": null,
      "outputs": []
    },
    {
      "cell_type": "code",
      "source": [
        "s.endswith?"
      ],
      "metadata": {
        "id": "Y2DIyu-Mw37I"
      },
      "execution_count": null,
      "outputs": []
    },
    {
      "cell_type": "code",
      "source": [
        "s.endswith('!')"
      ],
      "metadata": {
        "id": "hP4x9hPwwz1_"
      },
      "execution_count": null,
      "outputs": []
    },
    {
      "cell_type": "code",
      "source": [
        "s.endswith('?')"
      ],
      "metadata": {
        "id": "2reDrlGaw7re"
      },
      "execution_count": null,
      "outputs": []
    },
    {
      "cell_type": "code",
      "source": [
        "print?"
      ],
      "metadata": {
        "id": "VhQX3ZDww-MD"
      },
      "execution_count": null,
      "outputs": []
    },
    {
      "cell_type": "code",
      "source": [
        "help(print)"
      ],
      "metadata": {
        "id": "sk78AonzxAu0"
      },
      "execution_count": null,
      "outputs": []
    },
    {
      "cell_type": "markdown",
      "source": [
        "## Part 2 Exercises"
      ],
      "metadata": {
        "id": "ACSut5cjxC72"
      }
    },
    {
      "cell_type": "markdown",
      "source": [
        "1. **Assigning Strings**:\n",
        "   - Assign the string `\"Hello, World!\"` to a variable named `greeting` and print it."
      ],
      "metadata": {
        "id": "p3dBED-I0GZU"
      }
    },
    {
      "cell_type": "code",
      "source": [],
      "metadata": {
        "id": "epSB0DSe0kQp"
      },
      "execution_count": null,
      "outputs": []
    },
    {
      "cell_type": "markdown",
      "source": [
        "\n",
        "\n",
        "2. **Naming Conventions**:\n",
        "   - Assign the string `\"Python Programming\"` to a variable with a name that follows proper naming conventions and print it."
      ],
      "metadata": {
        "id": "92fBFgPj0SNd"
      }
    },
    {
      "cell_type": "code",
      "source": [],
      "metadata": {
        "id": "8Lq-IY9X0kqP"
      },
      "execution_count": null,
      "outputs": []
    },
    {
      "cell_type": "markdown",
      "source": [
        "3. **Concatenation**:\n",
        "   - Create two string variables, `first_name` and `last_name`, and concatenate them to form a full name variable, then print that variable.\n"
      ],
      "metadata": {
        "id": "HydacVBn0hjH"
      }
    },
    {
      "cell_type": "code",
      "source": [],
      "metadata": {
        "id": "UFYdxNe11xef"
      },
      "execution_count": null,
      "outputs": []
    },
    {
      "cell_type": "markdown",
      "source": [
        "\n",
        "\n",
        "4. **Repetition**:\n",
        "   - Create a string variable `text` with the value `\"Python\"` and print it repeated 5 times, two different ways."
      ],
      "metadata": {
        "id": "npRnM9TF0sxs"
      }
    },
    {
      "cell_type": "code",
      "source": [],
      "metadata": {
        "id": "SKg0O-Cq1x-U"
      },
      "execution_count": null,
      "outputs": []
    },
    {
      "cell_type": "markdown",
      "source": [
        "5. **Basic Slicing**:\n",
        "   - Given the string `s = \"Hello, World!\"`, print the substring `\"Hello\"`."
      ],
      "metadata": {
        "id": "xYjZovvP0yg0"
      }
    },
    {
      "cell_type": "code",
      "source": [],
      "metadata": {
        "id": "KNvP4q3e1yn6"
      },
      "execution_count": null,
      "outputs": []
    },
    {
      "cell_type": "markdown",
      "source": [
        "6. **Negative Indexing**:\n",
        "   - Given the string `s = \"Hello, World!\"`, print the substring `\"World\"` using negative indexing.\n",
        "   - Then, print \"World\" backwards.\n"
      ],
      "metadata": {
        "id": "YwaeedAy047M"
      }
    },
    {
      "cell_type": "code",
      "source": [],
      "metadata": {
        "id": "VU808vHY1zNE"
      },
      "execution_count": null,
      "outputs": []
    },
    {
      "cell_type": "markdown",
      "source": [
        "7. **Skipping Characters**:\n",
        "   - Given the string `s = \"abcdefghijklmnopqrstuvwxyz\"`, print every third character, starting from 'd'."
      ],
      "metadata": {
        "id": "VTUtOezB0-jE"
      }
    },
    {
      "cell_type": "code",
      "source": [],
      "metadata": {
        "id": "K13ZEqhz1zsL"
      },
      "execution_count": null,
      "outputs": []
    },
    {
      "cell_type": "markdown",
      "source": [
        "8. **Immutability**:\n",
        "   - Given the string `s = \"immutable\"`, try changing the first character to `\"I\"` and explain why it fails.\n",
        "   - Then, find a way to print Immutable while also utilizing the original variable s."
      ],
      "metadata": {
        "id": "7jX2SFln1CXy"
      }
    },
    {
      "cell_type": "code",
      "source": [],
      "metadata": {
        "id": "9Eb4IDr910I3"
      },
      "execution_count": null,
      "outputs": []
    },
    {
      "cell_type": "markdown",
      "source": [
        "9. **f-Strings**:\n",
        "   - Use an f-string to format and print the variables `name = \"Alice\"` and `age = 30` in the sentence `\"Alice is 30 years old.\"`.\n"
      ],
      "metadata": {
        "id": "wW8OVC3E1IdQ"
      }
    },
    {
      "cell_type": "code",
      "source": [],
      "metadata": {
        "id": "A9N5nYNW10iK"
      },
      "execution_count": null,
      "outputs": []
    },
    {
      "cell_type": "markdown",
      "source": [
        "\n",
        "\n",
        "10. **str.format() Method**:\n",
        "    - Use the `str.format()` method to print the same sentence as above."
      ],
      "metadata": {
        "id": "xDvNZcaY1K-p"
      }
    },
    {
      "cell_type": "code",
      "source": [],
      "metadata": {
        "id": "YUXfiYGs107C"
      },
      "execution_count": null,
      "outputs": []
    },
    {
      "cell_type": "markdown",
      "source": [
        "\n",
        "\n",
        "11. **Use str()**:\n",
        "    - Find the documentation of the str() function. Use it to convert a = 5 to a string.\n"
      ],
      "metadata": {
        "id": "3mv_VhyB1O2C"
      }
    },
    {
      "cell_type": "code",
      "source": [],
      "metadata": {
        "id": "UbZZ_xNN11V1"
      },
      "execution_count": null,
      "outputs": []
    },
    {
      "cell_type": "markdown",
      "source": [
        "12. **Uppercase Conversion**:\n",
        "    - Convert the string `s = \"hello\"` to uppercase and print it.\n"
      ],
      "metadata": {
        "id": "U9P_dxTq1RX8"
      }
    },
    {
      "cell_type": "code",
      "source": [],
      "metadata": {
        "id": "AXUWhy70117X"
      },
      "execution_count": null,
      "outputs": []
    },
    {
      "cell_type": "markdown",
      "source": [
        "\n",
        "\n",
        "13. **Finding a Substring**:\n",
        "    - Given the string `s = \"hello, world\"`, find the index of the substring `\"world\"` and print it.\n"
      ],
      "metadata": {
        "id": "VqeS6ywr1Ttf"
      }
    },
    {
      "cell_type": "code",
      "source": [],
      "metadata": {
        "id": "NEWDflzn12aN"
      },
      "execution_count": null,
      "outputs": []
    },
    {
      "cell_type": "markdown",
      "source": [
        "\n",
        "\n",
        "14. **Replacing Substrings**:\n",
        "    - Replace the substring `\"world\"` with `\"Python\"` in the string `s = \"hello, world\"` and print the result."
      ],
      "metadata": {
        "id": "9CnTR8tR1WS9"
      }
    },
    {
      "cell_type": "code",
      "source": [],
      "metadata": {
        "id": "GLGdn8xU122F"
      },
      "execution_count": null,
      "outputs": []
    },
    {
      "cell_type": "markdown",
      "source": [
        "\n",
        "\n",
        "15. **Splitting a String**:\n",
        "    - Split the string `s = \"one, two, three\"` by commas and print the resulting list.\n"
      ],
      "metadata": {
        "id": "tZJjsHn21Zji"
      }
    },
    {
      "cell_type": "code",
      "source": [],
      "metadata": {
        "id": "DRgV1h4o13SA"
      },
      "execution_count": null,
      "outputs": []
    },
    {
      "cell_type": "markdown",
      "source": [
        "\n",
        "\n",
        "16. **Joining Strings**:\n",
        "    - Join the list `['one', 'two', 'three']` into a single string separated by hyphens and print it.\n"
      ],
      "metadata": {
        "id": "JPEBpGpf1cc_"
      }
    },
    {
      "cell_type": "code",
      "source": [],
      "metadata": {
        "id": "15vPuJQI1359"
      },
      "execution_count": null,
      "outputs": []
    },
    {
      "cell_type": "markdown",
      "source": [
        "17. **Printing Variables**:\n",
        "    - Create a variable `message` with the value `\"Hello, World!\"` and print it using the `print()` function."
      ],
      "metadata": {
        "id": "1cTc6GR91enq"
      }
    },
    {
      "cell_type": "code",
      "source": [],
      "metadata": {
        "id": "E2E4yCg714T0"
      },
      "execution_count": null,
      "outputs": []
    },
    {
      "cell_type": "markdown",
      "source": [
        "\n",
        "\n",
        "18. **Multi-line Strings**:\n",
        "    - Create a multi-line string using triple quotes and print it.\n"
      ],
      "metadata": {
        "id": "oPhpk2hA1hfP"
      }
    },
    {
      "cell_type": "code",
      "source": [],
      "metadata": {
        "id": "0nFiuX_T14xp"
      },
      "execution_count": null,
      "outputs": []
    },
    {
      "cell_type": "markdown",
      "source": [
        "19. **Checking Prefix**:\n",
        "    - Check if the string `s = \"Python Programming\"` starts with `\"Python\"` and print the result.\n"
      ],
      "metadata": {
        "id": "QDOtC9AX1jUK"
      }
    },
    {
      "cell_type": "code",
      "source": [],
      "metadata": {
        "id": "KbEfVI0215Q6"
      },
      "execution_count": null,
      "outputs": []
    },
    {
      "cell_type": "markdown",
      "source": [
        "20. **String Reversal**:\n",
        "    - Write a code snippet to reverse the string `s = \"abcdef\"` and print the reversed string."
      ],
      "metadata": {
        "id": "NKJO0wPo1npi"
      }
    },
    {
      "cell_type": "code",
      "source": [],
      "metadata": {
        "id": "GgoQDoPWxGFa"
      },
      "execution_count": null,
      "outputs": []
    }
  ],
  "metadata": {
    "anaconda-cloud": {},
    "kernelspec": {
      "display_name": "Python 3 (ipykernel)",
      "language": "python",
      "name": "python3"
    },
    "language_info": {
      "codemirror_mode": {
        "name": "ipython",
        "version": 3
      },
      "file_extension": ".py",
      "mimetype": "text/x-python",
      "name": "python",
      "nbconvert_exporter": "python",
      "pygments_lexer": "ipython3",
      "version": "3.9.13"
    },
    "colab": {
      "provenance": []
    }
  },
  "nbformat": 4,
  "nbformat_minor": 0
}