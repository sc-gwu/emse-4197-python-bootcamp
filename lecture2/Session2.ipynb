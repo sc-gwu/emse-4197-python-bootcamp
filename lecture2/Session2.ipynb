{
 "cells": [
  {
   "cell_type": "markdown",
   "metadata": {
    "id": "odwtbZs8X4ZP"
   },
   "source": [
    "# EMSE-4197-PYTHON-BOOTCAMP - Session 2"
   ]
  },
  {
   "cell_type": "markdown",
   "metadata": {
    "id": "ZOFDUQYrXCY_"
   },
   "source": [
    "# Part 1: Strings Continued"
   ]
  },
  {
   "cell_type": "markdown",
   "metadata": {
    "id": "7YRAOsXTXCY_"
   },
   "source": [
    "Strings are used in Python to record text information, such as names.\n",
    "\n",
    "Strings in Python are actually a *sequence*, which basically means Python keeps track of every element in the string as a sequence."
   ]
  },
  {
   "cell_type": "markdown",
   "metadata": {
    "id": "4-a_cXCVXCY_"
   },
   "source": [
    "## Creating a String\n",
    "To create a string in Python you need to use either single quotes or double quotes. For example:"
   ]
  },
  {
   "cell_type": "code",
   "execution_count": null,
   "metadata": {
    "colab": {
     "base_uri": "https://localhost:8080/",
     "height": 35
    },
    "id": "j0oEtm3iXCY_",
    "outputId": "e8f4bcef-47fc-4a91-92fe-a1d61a639354"
   },
   "outputs": [],
   "source": [
    "# Single word\n",
    "'hello'"
   ]
  },
  {
   "cell_type": "code",
   "execution_count": null,
   "metadata": {
    "id": "lCrQssEAo14Z"
   },
   "outputs": [],
   "source": [
    "# this won't print anything, remember?\n",
    "a = 'string'"
   ]
  },
  {
   "cell_type": "code",
   "execution_count": null,
   "metadata": {
    "colab": {
     "base_uri": "https://localhost:8080/"
    },
    "id": "gMcQAMIwo6OE",
    "outputId": "a647972b-55eb-4fdc-c5f8-b3bbde99390d"
   },
   "outputs": [],
   "source": [
    "print(a)"
   ]
  },
  {
   "cell_type": "code",
   "execution_count": null,
   "metadata": {
    "colab": {
     "base_uri": "https://localhost:8080/",
     "height": 35
    },
    "id": "OvsrDiDSXCY_",
    "outputId": "49697743-fd28-458d-a8e3-a6abbe969b04"
   },
   "outputs": [],
   "source": [
    "# Entire phrase\n",
    "'This is also a string'"
   ]
  },
  {
   "cell_type": "code",
   "execution_count": null,
   "metadata": {
    "colab": {
     "base_uri": "https://localhost:8080/",
     "height": 35
    },
    "id": "5qIgLbduXCY_",
    "outputId": "2ddc2a75-87dd-4d5e-e943-6f8f4d0eadb3"
   },
   "outputs": [],
   "source": [
    "# We can also use double quote\n",
    "\"String built with double quotes\""
   ]
  },
  {
   "cell_type": "code",
   "execution_count": null,
   "metadata": {
    "colab": {
     "base_uri": "https://localhost:8080/",
     "height": 108
    },
    "id": "MYUes5plXCY_",
    "outputId": "03f4b43f-ad4c-482b-abeb-75fffa638047"
   },
   "outputs": [],
   "source": [
    "# Be careful with quotes!\n",
    "' I'm using single quotes, but this will create an error'"
   ]
  },
  {
   "cell_type": "markdown",
   "metadata": {
    "id": "Mict0qJgXCY_"
   },
   "source": [
    "The reason for the error above is because the single quote in <code>I'm</code> stopped the string. You can use combinations of double and single quotes to get the complete statement."
   ]
  },
  {
   "cell_type": "code",
   "execution_count": null,
   "metadata": {
    "id": "Rv7otS_Jo_Du"
   },
   "outputs": [],
   "source": [
    "# Be careful with quotes!\n",
    "\"I'm using single quotes, but this won't create an error\""
   ]
  },
  {
   "cell_type": "code",
   "execution_count": null,
   "metadata": {
    "colab": {
     "base_uri": "https://localhost:8080/",
     "height": 35
    },
    "id": "GyUdXlPFpEXp",
    "outputId": "af039606-805c-41b6-e299-7cab478c7228"
   },
   "outputs": [],
   "source": [
    "# Be careful with quotes!\n",
    "' I\"m using single quotes, but this won\"t create an error'"
   ]
  },
  {
   "cell_type": "markdown",
   "metadata": {
    "id": "FlCl26TXXCY_"
   },
   "source": [
    "Now let's learn about printing strings!"
   ]
  },
  {
   "cell_type": "markdown",
   "metadata": {
    "id": "bxgtcbtvXCY_"
   },
   "source": [
    "## Printing a String\n",
    "\n",
    "Using Jupyter notebook with just a string in a cell will automatically output strings, but the correct way to display strings in your output is by using a print function."
   ]
  },
  {
   "cell_type": "code",
   "execution_count": null,
   "metadata": {
    "colab": {
     "base_uri": "https://localhost:8080/",
     "height": 35
    },
    "id": "FJ7I35JbXCY_",
    "outputId": "636e7db3-9fd3-4a60-ec06-802d00fad64a"
   },
   "outputs": [],
   "source": [
    "# We can simply declare a string\n",
    "'Hello World'"
   ]
  },
  {
   "cell_type": "code",
   "execution_count": null,
   "metadata": {
    "colab": {
     "base_uri": "https://localhost:8080/",
     "height": 35
    },
    "id": "RUHurUt0XCY_",
    "outputId": "4456284f-d389-440f-dfc5-c102adedc3fe"
   },
   "outputs": [],
   "source": [
    "# Note that we can't output multiple strings this way\n",
    "'Hello World 1'\n",
    "'Hello World 2'"
   ]
  },
  {
   "cell_type": "markdown",
   "metadata": {
    "id": "cTYKbklxXCZA"
   },
   "source": [
    "We can use a print statement to print a string."
   ]
  },
  {
   "cell_type": "code",
   "execution_count": null,
   "metadata": {
    "colab": {
     "base_uri": "https://localhost:8080/"
    },
    "id": "1mXQgCfzXCZA",
    "outputId": "cc5c8f7b-eda0-40dd-cd3d-0873d4248b5a"
   },
   "outputs": [],
   "source": [
    "print('Hello World 1')\n",
    "print('Hello World 2')\n",
    "print('Use \\n to print a new line')\n",
    "print('\\n')\n",
    "print('See what I mean?')"
   ]
  },
  {
   "cell_type": "markdown",
   "metadata": {
    "id": "o0aSpD6YXCZA"
   },
   "source": [
    "## String Basics"
   ]
  },
  {
   "cell_type": "markdown",
   "metadata": {
    "id": "EqnvGakhXCZA"
   },
   "source": [
    "We can also use a function called len() to check the length of a string!\n",
    "\n",
    "Len documentation: https://docs.python.org/3/library/functions.html#len\n"
   ]
  },
  {
   "cell_type": "code",
   "execution_count": null,
   "metadata": {
    "colab": {
     "base_uri": "https://localhost:8080/"
    },
    "id": "1PHXpjpsXCZA",
    "outputId": "74e481d2-2d56-40aa-c88e-bc776a739ac3"
   },
   "outputs": [],
   "source": [
    "len('Hello World')"
   ]
  },
  {
   "cell_type": "markdown",
   "metadata": {
    "id": "aWkkC9r1XCZA"
   },
   "source": [
    "Python's built-in len() function counts all of the characters in the string, including spaces and punctuation."
   ]
  },
  {
   "cell_type": "markdown",
   "metadata": {
    "id": "jsufdFlAXCZA"
   },
   "source": [
    "## String Indexing\n",
    "We know strings are a sequence, which means Python can use indexes to call parts of the sequence. Let's learn how this works.\n",
    "\n",
    "In Python, we use brackets <code>[]</code> after an object to call its index. We should also note that INDEXING STARTS at 0 for Python. Let's create a new object called <code>s</code> and then walk through a few examples of indexing."
   ]
  },
  {
   "cell_type": "code",
   "execution_count": null,
   "metadata": {
    "id": "4M-HBIMKXCZA"
   },
   "outputs": [],
   "source": [
    "# Assign s as a string\n",
    "s = 'Hello World'"
   ]
  },
  {
   "cell_type": "code",
   "execution_count": null,
   "metadata": {
    "colab": {
     "base_uri": "https://localhost:8080/"
    },
    "id": "NWtlV1a4XCZA",
    "outputId": "c99ec08d-6eae-4c93-dfce-13ee6c96911c"
   },
   "outputs": [],
   "source": [
    "#Check\n",
    "print(s)"
   ]
  },
  {
   "cell_type": "code",
   "execution_count": null,
   "metadata": {
    "colab": {
     "base_uri": "https://localhost:8080/"
    },
    "id": "9qc1K44rXCZA",
    "outputId": "6728ff2a-a5e9-4951-a569-ee431c39c819"
   },
   "outputs": [],
   "source": [
    "# Print the object\n",
    "print(s)"
   ]
  },
  {
   "cell_type": "markdown",
   "metadata": {
    "id": "rpV4yWrjXCZA"
   },
   "source": [
    "Let's start indexing!"
   ]
  },
  {
   "cell_type": "code",
   "execution_count": null,
   "metadata": {
    "colab": {
     "base_uri": "https://localhost:8080/",
     "height": 35
    },
    "id": "vexW_2P4XCZA",
    "outputId": "1711f583-ff95-4971-aef0-2adcb7d10c2d"
   },
   "outputs": [],
   "source": [
    "# Show first element (in this case a letter)\n",
    "s[5]\n"
   ]
  },
  {
   "cell_type": "code",
   "execution_count": null,
   "metadata": {
    "colab": {
     "base_uri": "https://localhost:8080/",
     "height": 35
    },
    "id": "sih6-aZrXCZA",
    "outputId": "a330dbe4-73b1-42f8-eb03-fe25fb319ede"
   },
   "outputs": [],
   "source": [
    "s[1]"
   ]
  },
  {
   "cell_type": "code",
   "execution_count": null,
   "metadata": {
    "colab": {
     "base_uri": "https://localhost:8080/",
     "height": 35
    },
    "id": "IKyjifJ4XCZA",
    "outputId": "ca33f2e9-9eec-44bd-863c-71c9fc5b7423"
   },
   "outputs": [],
   "source": [
    "s[2]"
   ]
  },
  {
   "cell_type": "code",
   "execution_count": null,
   "metadata": {
    "colab": {
     "base_uri": "https://localhost:8080/",
     "height": 144
    },
    "id": "TAP7p89txn1p",
    "outputId": "f3e640d9-68a6-40d3-d267-557bbb509e32"
   },
   "outputs": [],
   "source": [
    "s[40]"
   ]
  },
  {
   "cell_type": "markdown",
   "metadata": {
    "id": "dy7yCyUoXCZA"
   },
   "source": [
    "### String Slicing\n",
    "\n",
    "We can use a\n",
    "\n",
    "```\n",
    "string[start:stop:step]\n",
    "```\n",
    "\n",
    "\n",
    "to perform *slicing* which grabs everything up to a designated point.\n",
    "\n",
    "Parameters\n",
    "\n",
    "start: The index where the slice begins. If omitted, the slice starts from the beginning of the string.\n",
    "\n",
    "stop: The index where the slice ends (not inclusive). If omitted, the slice goes until the end of the string.\n",
    "\n",
    "step: The step value specifies the increment between each index for the slice. If omitted, the default is 1."
   ]
  },
  {
   "cell_type": "code",
   "execution_count": null,
   "metadata": {
    "colab": {
     "base_uri": "https://localhost:8080/",
     "height": 35
    },
    "id": "-6oixA_sXCZA",
    "outputId": "db9f8fe2-80f8-412b-dc73-76b2f1809394"
   },
   "outputs": [],
   "source": [
    "# Grab everything past the first term all the way to the length of s which is len(s)\n",
    "s[1:]"
   ]
  },
  {
   "cell_type": "code",
   "execution_count": null,
   "metadata": {
    "colab": {
     "base_uri": "https://localhost:8080/",
     "height": 35
    },
    "id": "xuZyfgrxXCZA",
    "outputId": "5d77d280-f609-4945-a3b9-a1002b5a728d"
   },
   "outputs": [],
   "source": [
    "# Note that there is no change to the original s. We are just grabbing and displaying what we want\n",
    "s"
   ]
  },
  {
   "cell_type": "code",
   "execution_count": null,
   "metadata": {
    "colab": {
     "base_uri": "https://localhost:8080/",
     "height": 35
    },
    "id": "-MU7Ju8nXCZB",
    "outputId": "a5e6928a-0663-40a6-b053-3f95e18ec61e"
   },
   "outputs": [],
   "source": [
    "# Grab everything UP TO the 3rd index\n",
    "s[:3]"
   ]
  },
  {
   "cell_type": "markdown",
   "metadata": {
    "id": "kM3Oj2NfXCZB"
   },
   "source": [
    "Note the above slicing. Here we're telling Python to grab everything from 0 up to 3. It doesn't include the 3rd index. You'll notice this a lot in Python, where statements and are usually in the context of \"up to, but not including\"."
   ]
  },
  {
   "cell_type": "code",
   "execution_count": null,
   "metadata": {
    "colab": {
     "base_uri": "https://localhost:8080/",
     "height": 35
    },
    "id": "RCaMdaIOtMYI",
    "outputId": "10661606-dbc7-4c3d-c64c-22ad0ed686b8"
   },
   "outputs": [],
   "source": [
    "# start at the beginning\n",
    "# end at character 10\n",
    "# step every 1 character (so don't skip any)\n",
    "s[0:11:1]"
   ]
  },
  {
   "cell_type": "code",
   "execution_count": null,
   "metadata": {
    "colab": {
     "base_uri": "https://localhost:8080/",
     "height": 35
    },
    "id": "TAQzhfy8td7X",
    "outputId": "c81d30b4-ea53-46f8-ba0f-4fe58a307817"
   },
   "outputs": [],
   "source": [
    "# gimme every other character\n",
    "s[0:11:2]"
   ]
  },
  {
   "cell_type": "markdown",
   "metadata": {
    "id": "qz5A3_BKuKle"
   },
   "source": [
    "If end points are not specified, it is assumed you want everything."
   ]
  },
  {
   "cell_type": "code",
   "execution_count": null,
   "metadata": {
    "colab": {
     "base_uri": "https://localhost:8080/",
     "height": 35
    },
    "id": "qC92PyeLXCZB",
    "outputId": "c1c49ac8-7f8c-4cb4-9a86-d523de0b2d0c"
   },
   "outputs": [],
   "source": [
    "#Everything\n",
    "s[:]"
   ]
  },
  {
   "cell_type": "markdown",
   "metadata": {
    "id": "e1bZV50WXCZB"
   },
   "source": [
    "We can also use negative indexing to go backwards."
   ]
  },
  {
   "cell_type": "code",
   "execution_count": null,
   "metadata": {
    "colab": {
     "base_uri": "https://localhost:8080/",
     "height": 35
    },
    "id": "f8zVGH9fXCZB",
    "outputId": "419e1b69-6ee4-4639-85cb-6d50fb20f357"
   },
   "outputs": [],
   "source": [
    "# Last letter (one index behind 0 so it loops back around)\n",
    "# will return the LAST character in the string\n",
    "s[-1]"
   ]
  },
  {
   "cell_type": "code",
   "execution_count": null,
   "metadata": {
    "colab": {
     "base_uri": "https://localhost:8080/",
     "height": 35
    },
    "id": "tzWlwrGIXCZB",
    "outputId": "e93c7c2f-63d4-4fd4-d135-9fc3a8698367"
   },
   "outputs": [],
   "source": [
    "# Grab everything but the last letter\n",
    "s[:-1]"
   ]
  },
  {
   "cell_type": "markdown",
   "metadata": {
    "id": "biGHRXg7ubq4"
   },
   "source": [
    "Why? The slice s[:-1] in Python means \"take all elements of the string s from the beginning up to, but not including, the last character.\""
   ]
  },
  {
   "cell_type": "markdown",
   "metadata": {
    "id": "rLYKPSAoXCZB"
   },
   "source": [
    "We can also use index and slice notation to grab elements of a sequence by a specified step size (the default is 1). For instance we can use two colons in a row and then a number specifying the frequency to grab elements. For example:"
   ]
  },
  {
   "cell_type": "code",
   "execution_count": null,
   "metadata": {
    "colab": {
     "base_uri": "https://localhost:8080/",
     "height": 35
    },
    "id": "ioxQFcpKXCZB",
    "outputId": "34d610d0-d3ac-4cb3-91a9-d880a80d923e"
   },
   "outputs": [],
   "source": [
    "# Grab everything, but go in steps size of 1\n",
    "s[::1]"
   ]
  },
  {
   "cell_type": "code",
   "execution_count": null,
   "metadata": {
    "colab": {
     "base_uri": "https://localhost:8080/",
     "height": 35
    },
    "id": "9ouzlwgPXCZB",
    "outputId": "36209070-6d15-42bd-9fa8-849432f01298"
   },
   "outputs": [],
   "source": [
    "# Grab everything, but go in step sizes of 2\n",
    "s[::2]"
   ]
  },
  {
   "cell_type": "code",
   "execution_count": null,
   "metadata": {
    "colab": {
     "base_uri": "https://localhost:8080/",
     "height": 35
    },
    "id": "T4KMQZDbXCZB",
    "outputId": "9cc4811f-ee25-497a-8b9a-1a046070d3bb"
   },
   "outputs": [],
   "source": [
    "# We can use this to print a string backwards\n",
    "# when specifying steps, positive means forward and negative means reverse\n",
    "s[::-1]"
   ]
  },
  {
   "cell_type": "markdown",
   "metadata": {
    "id": "FU9P3dsxu5V_"
   },
   "source": [
    "## Mutability"
   ]
  },
  {
   "cell_type": "markdown",
   "metadata": {
    "id": "Olue32msvCi8"
   },
   "source": [
    "In Python, data types can be categorized as mutable or immutable based on whether their values can be changed after they are created.\n",
    "\n",
    "### Immutable Data Types\n",
    "\n",
    "Immutable data types are those whose values cannot be modified after they are created. Any operation that changes the value of an immutable object will create a new object.\n",
    "\n",
    "1. **Numbers**:\n",
    "   - `int`\n",
    "   - `float`\n",
    "   - `complex`\n",
    "   - `bool`\n",
    "   ```python\n",
    "   a = 5\n",
    "   a = a + 1  # Creates a new int object with value 6\n",
    "   ```\n",
    "\n",
    "2. **Strings** (`str`):\n",
    "   ```python\n",
    "   s = \"hello\"\n",
    "   s = s + \" world\"  # Creates a new string object \"hello world\"\n",
    "   ```\n",
    "\n",
    "3. **Tuples** (`tuple`):\n",
    "   ```python\n",
    "   t = (1, 2, 3)\n",
    "   t = t + (4,)  # Creates a new tuple (1, 2, 3, 4)\n",
    "   ```\n",
    "\n",
    "4. **Frozen Sets** (`frozenset`):\n",
    "   ```python\n",
    "   fs = frozenset([1, 2, 3])\n",
    "   # fs.add(4)  # This would raise an AttributeError\n",
    "   ```\n",
    "\n",
    "### Mutable Data Types\n",
    "\n",
    "Mutable data types are those whose values can be changed after they are created. These types allow for in-place modification.\n",
    "\n",
    "1. **Lists** (`list`):\n",
    "   ```python\n",
    "   lst = [1, 2, 3]\n",
    "   lst.append(4)  # Modifies the original list to [1, 2, 3, 4]\n",
    "   ```\n",
    "\n",
    "2. **Dictionaries** (`dict`):\n",
    "   ```python\n",
    "   d = {\"a\": 1, \"b\": 2}\n",
    "   d[\"c\"] = 3  # Modifies the original dictionary to {'a': 1, 'b': 2, 'c': 3}\n",
    "   ```\n",
    "\n",
    "3. **Sets** (`set`):\n",
    "   ```python\n",
    "   s = {1, 2, 3}\n",
    "   s.add(4)  # Modifies the original set to {1, 2, 3, 4}\n",
    "   ```\n",
    "\n",
    "4. **Byte Arrays** (`bytearray`):\n",
    "   ```python\n",
    "   b = bytearray(b\"hello\")\n",
    "   b[0] = ord('H')  # Modifies the original bytearray to bytearray(b'Hello')\n",
    "   ```\n",
    "\n",
    "### Summary\n",
    "\n",
    "- **Immutable Data Types**: `int`, `float`, `complex`, `bool`, `str`, `tuple`, `frozenset`\n",
    "- **Mutable Data Types**: `list`, `dict`, `set`, `bytearray`\n",
    "\n",
    "Understanding whether a data type is mutable or immutable is important because it affects how variables and objects behave when they are passed to functions, assigned to new variables, or modified. Mutable types can be changed in place, which can lead to side effects if not handled carefully, while immutable types provide stability and predictability."
   ]
  },
  {
   "cell_type": "markdown",
   "metadata": {
    "id": "n0PfwH8iXCZB"
   },
   "source": [
    "## String Properties\n",
    "It's important to note that strings have an important property known as *immutability*. This means that once a string is created, the elements within it can not be changed or replaced. For example:"
   ]
  },
  {
   "cell_type": "code",
   "execution_count": null,
   "metadata": {
    "colab": {
     "base_uri": "https://localhost:8080/",
     "height": 35
    },
    "id": "Ld4BWkiHXCZB",
    "outputId": "2f903965-5b19-4d91-c3db-cbd58cc458fd"
   },
   "outputs": [],
   "source": [
    "s"
   ]
  },
  {
   "cell_type": "code",
   "execution_count": null,
   "metadata": {
    "colab": {
     "base_uri": "https://localhost:8080/",
     "height": 162
    },
    "id": "QXXMcm6KXCZB",
    "outputId": "4f69d3ee-c434-4966-e7a0-ad57e18b26cf"
   },
   "outputs": [],
   "source": [
    "# Let's try to change the first letter to 'x'\n",
    "s[0] = 'x'"
   ]
  },
  {
   "cell_type": "code",
   "execution_count": null,
   "metadata": {
    "colab": {
     "base_uri": "https://localhost:8080/"
    },
    "id": "thGjb5ZMvg2B",
    "outputId": "92c10e6f-e709-421f-a13b-edd1de973e12"
   },
   "outputs": [],
   "source": [
    "# however we could create a new variable or overwrite s to make the change\n",
    "new_s = 'x' + s[1:]\n",
    "print(new_s)"
   ]
  },
  {
   "cell_type": "markdown",
   "metadata": {
    "id": "WZuQgqrfXCZB"
   },
   "source": [
    "Notice how the error tells us directly what we can't do, change the item assignment!\n",
    "\n",
    "Something we *can* do is concatenate strings!"
   ]
  },
  {
   "cell_type": "code",
   "execution_count": null,
   "metadata": {
    "colab": {
     "base_uri": "https://localhost:8080/",
     "height": 35
    },
    "id": "wY1hAz_qXCZB",
    "outputId": "f69f7c89-2612-4f80-8a1b-1d45f034fbe6"
   },
   "outputs": [],
   "source": [
    "s"
   ]
  },
  {
   "cell_type": "code",
   "execution_count": null,
   "metadata": {
    "colab": {
     "base_uri": "https://localhost:8080/",
     "height": 35
    },
    "id": "wwHPL5_eXCZB",
    "outputId": "80daf7af-99db-4875-fcd7-286f82436c86"
   },
   "outputs": [],
   "source": [
    "# Concatenate strings!\n",
    "s + ' concatenate me!'"
   ]
  },
  {
   "cell_type": "code",
   "execution_count": null,
   "metadata": {
    "id": "2HU0fueWXCZB"
   },
   "outputs": [],
   "source": [
    "# We can reassign s completely though!\n",
    "s = s + ' concatenate me!'"
   ]
  },
  {
   "cell_type": "code",
   "execution_count": null,
   "metadata": {
    "colab": {
     "base_uri": "https://localhost:8080/"
    },
    "id": "sOcWIeESXCZB",
    "outputId": "07c8c93f-ca94-4977-f9b7-3853701a93ba"
   },
   "outputs": [],
   "source": [
    "print(s)"
   ]
  },
  {
   "cell_type": "code",
   "execution_count": null,
   "metadata": {
    "colab": {
     "base_uri": "https://localhost:8080/",
     "height": 35
    },
    "id": "u5RC5x-iXCZB",
    "outputId": "89eca206-73a8-464d-e78e-e43d9bf61e10"
   },
   "outputs": [],
   "source": [
    "s"
   ]
  },
  {
   "cell_type": "markdown",
   "metadata": {
    "id": "yxBpzDe2XCZC"
   },
   "source": [
    "We can use the multiplication symbol to create repetition!"
   ]
  },
  {
   "cell_type": "code",
   "execution_count": null,
   "metadata": {
    "id": "k_kBn3pEXCZC"
   },
   "outputs": [],
   "source": [
    "letter = 'z'"
   ]
  },
  {
   "cell_type": "code",
   "execution_count": null,
   "metadata": {
    "colab": {
     "base_uri": "https://localhost:8080/",
     "height": 35
    },
    "id": "uA-htXi-XCZC",
    "outputId": "fa8ac093-f839-4761-a498-a8df3d7b9ee5"
   },
   "outputs": [],
   "source": [
    "letter*10"
   ]
  },
  {
   "cell_type": "markdown",
   "metadata": {
    "id": "vOlzc0JcXCZC"
   },
   "source": [
    "## Basic Built-in String methods\n",
    "\n",
    "Objects in Python usually have built-in methods. These methods are functions inside the object (we will learn about these in much more depth later) that can perform actions or commands on the object itself.\n",
    "\n",
    "In Python, a method is a function that is associated with an object and is defined within a class. Methods operate on instances of the class (i.e., objects) and can access and modify the object's attributes. They are a fundamental part of object-oriented programming in Python."
   ]
  },
  {
   "cell_type": "markdown",
   "metadata": {
    "id": "ziWJt9j7X4Zb"
   },
   "source": [
    "In order to look at what methods are available for an object in Python, there are a few available...methods:\n",
    "\n",
    "1 - tab/pause complete\n",
    "\n",
    "2 - dir()\n",
    "\n",
    "3 - help()"
   ]
  },
  {
   "cell_type": "code",
   "execution_count": null,
   "metadata": {
    "id": "Cda39cfJX4Zb"
   },
   "outputs": [],
   "source": [
    "# 1. tab or pause complete\n",
    "s."
   ]
  },
  {
   "cell_type": "code",
   "execution_count": null,
   "metadata": {
    "colab": {
     "base_uri": "https://localhost:8080/"
    },
    "id": "78SEkWOuXCZC",
    "outputId": "6dd82909-52f3-4d5d-b776-72759785e1ca"
   },
   "outputs": [],
   "source": [
    "# 2. dir()\n",
    "dir(s)"
   ]
  },
  {
   "cell_type": "code",
   "execution_count": null,
   "metadata": {
    "colab": {
     "base_uri": "https://localhost:8080/"
    },
    "id": "p0U0tnccX4Zb",
    "outputId": "deb3a196-d4cf-41ad-feba-32e0333041e6"
   },
   "outputs": [],
   "source": [
    "# 3. help()\n",
    "help(s.capitalize)"
   ]
  },
  {
   "cell_type": "code",
   "execution_count": null,
   "metadata": {
    "colab": {
     "base_uri": "https://localhost:8080/",
     "height": 35
    },
    "id": "vRN3iGoLXCZC",
    "outputId": "a2f02835-5258-400d-fc01-dfd65cc94deb"
   },
   "outputs": [],
   "source": [
    "# Upper Case a string\n",
    "s.upper()"
   ]
  },
  {
   "cell_type": "code",
   "execution_count": null,
   "metadata": {
    "colab": {
     "base_uri": "https://localhost:8080/",
     "height": 35
    },
    "id": "ZAug__h7ZWxC",
    "outputId": "7c770977-bad3-4c0b-c42a-477b2f63a7ff"
   },
   "outputs": [],
   "source": [
    "s"
   ]
  },
  {
   "cell_type": "code",
   "execution_count": null,
   "metadata": {
    "colab": {
     "base_uri": "https://localhost:8080/",
     "height": 35
    },
    "id": "pOjTFzh2XCZC",
    "outputId": "49c3df33-c0cc-452d-a7fb-de75fb67aa2d"
   },
   "outputs": [],
   "source": [
    "# Lower case\n",
    "s.lower()"
   ]
  },
  {
   "cell_type": "code",
   "execution_count": null,
   "metadata": {
    "colab": {
     "base_uri": "https://localhost:8080/"
    },
    "id": "wi8KSYscXCZC",
    "outputId": "04544932-2161-4fb9-bd5d-2c284dc9a7f9"
   },
   "outputs": [],
   "source": [
    "# Split a string by blank space (this is the default)\n",
    "s.split()"
   ]
  },
  {
   "cell_type": "code",
   "execution_count": null,
   "metadata": {
    "colab": {
     "base_uri": "https://localhost:8080/"
    },
    "id": "cUeByQwhXCZC",
    "outputId": "784528ea-9fe5-42ac-ae56-bdb70c38a12b"
   },
   "outputs": [],
   "source": [
    "# Split by a specific element (doesn't include the element that was split on)\n",
    "s.split('W')"
   ]
  },
  {
   "cell_type": "code",
   "execution_count": null,
   "metadata": {
    "id": "Y2DIyu-Mw37I"
   },
   "outputs": [],
   "source": [
    "# ?\n",
    "s.endswith?"
   ]
  },
  {
   "cell_type": "code",
   "execution_count": null,
   "metadata": {
    "colab": {
     "base_uri": "https://localhost:8080/"
    },
    "id": "hP4x9hPwwz1_",
    "outputId": "19281c25-1348-40c4-fd30-862f06de228a"
   },
   "outputs": [],
   "source": [
    "s.endswith('!')"
   ]
  },
  {
   "cell_type": "code",
   "execution_count": null,
   "metadata": {
    "colab": {
     "base_uri": "https://localhost:8080/"
    },
    "id": "2reDrlGaw7re",
    "outputId": "1e33fce0-7672-4e78-95dc-979a360e3908"
   },
   "outputs": [],
   "source": [
    "s.endswith('?')"
   ]
  },
  {
   "cell_type": "code",
   "execution_count": null,
   "metadata": {
    "id": "VhQX3ZDww-MD"
   },
   "outputs": [],
   "source": [
    "print?"
   ]
  },
  {
   "cell_type": "code",
   "execution_count": null,
   "metadata": {
    "colab": {
     "base_uri": "https://localhost:8080/"
    },
    "id": "sk78AonzxAu0",
    "outputId": "b8cb15d6-7001-4f5b-ee5a-20d52bca4c3c"
   },
   "outputs": [],
   "source": [
    "help(print)"
   ]
  },
  {
   "cell_type": "markdown",
   "metadata": {
    "id": "ACSut5cjxC72"
   },
   "source": [
    "## Part 1 Exercises"
   ]
  },
  {
   "cell_type": "markdown",
   "metadata": {
    "id": "p3dBED-I0GZU"
   },
   "source": [
    "1. **Assigning Strings**:\n",
    "   - Assign the string `\"Hello, World!\"` to a variable named `greeting` and print it."
   ]
  },
  {
   "cell_type": "code",
   "execution_count": null,
   "metadata": {
    "id": "epSB0DSe0kQp"
   },
   "outputs": [],
   "source": [
    "# Assign the string `\"Hello, World!\"` to a variable named `greeting` and print it."
   ]
  },
  {
   "cell_type": "markdown",
   "metadata": {
    "id": "92fBFgPj0SNd"
   },
   "source": [
    "\n",
    "\n",
    "2. **Naming Conventions**:\n",
    "   - Assign the string `\"Python Programming\"` to a variable with a name that follows proper naming conventions and print it."
   ]
  },
  {
   "cell_type": "code",
   "execution_count": null,
   "metadata": {
    "id": "8Lq-IY9X0kqP"
   },
   "outputs": [],
   "source": []
  },
  {
   "cell_type": "markdown",
   "metadata": {
    "id": "HydacVBn0hjH"
   },
   "source": [
    "3. **Concatenation**:\n",
    "   - Create two string variables, `first_name` and `last_name`, and concatenate them to form a full name variable, then print that variable.\n"
   ]
  },
  {
   "cell_type": "code",
   "execution_count": null,
   "metadata": {
    "id": "UFYdxNe11xef"
   },
   "outputs": [],
   "source": []
  },
  {
   "cell_type": "markdown",
   "metadata": {
    "id": "npRnM9TF0sxs"
   },
   "source": [
    "\n",
    "\n",
    "4. **Repetition**:\n",
    "   - Create a string variable `text` with the value `\"Python\"` and print it repeated 5 times, two different ways."
   ]
  },
  {
   "cell_type": "code",
   "execution_count": null,
   "metadata": {
    "id": "SKg0O-Cq1x-U"
   },
   "outputs": [],
   "source": []
  },
  {
   "cell_type": "markdown",
   "metadata": {
    "id": "xYjZovvP0yg0"
   },
   "source": [
    "5. **Basic Slicing**:\n",
    "   - Given the string `s = \"Hello, World!\"`, print the substring `\"Hello\"`."
   ]
  },
  {
   "cell_type": "code",
   "execution_count": null,
   "metadata": {
    "id": "KNvP4q3e1yn6"
   },
   "outputs": [],
   "source": []
  },
  {
   "cell_type": "markdown",
   "metadata": {
    "id": "YwaeedAy047M"
   },
   "source": [
    "6. **Negative Indexing**:\n",
    "   - Given the string `s = \"Hello, World!\"`, print the substring `\"World\"` using negative indexing.\n",
    "   - Then, print \"World\" backwards.\n"
   ]
  },
  {
   "cell_type": "code",
   "execution_count": null,
   "metadata": {
    "id": "VU808vHY1zNE"
   },
   "outputs": [],
   "source": []
  },
  {
   "cell_type": "markdown",
   "metadata": {
    "id": "VTUtOezB0-jE"
   },
   "source": [
    "7. **Skipping Characters**:\n",
    "   - Given the string `s = \"abcdefghijklmnopqrstuvwxyz\"`, print every third character, starting from 'd'."
   ]
  },
  {
   "cell_type": "code",
   "execution_count": null,
   "metadata": {
    "id": "K13ZEqhz1zsL"
   },
   "outputs": [],
   "source": []
  },
  {
   "cell_type": "markdown",
   "metadata": {
    "id": "7jX2SFln1CXy"
   },
   "source": [
    "8. **Immutability**:\n",
    "   - Given the string `s = \"immutable\"`, try changing the first character to `\"I\"` and explain why it fails.\n",
    "   - Then, find a way to print Immutable while also utilizing the original variable s."
   ]
  },
  {
   "cell_type": "code",
   "execution_count": null,
   "metadata": {
    "id": "9Eb4IDr910I3"
   },
   "outputs": [],
   "source": []
  },
  {
   "cell_type": "markdown",
   "metadata": {
    "id": "wW8OVC3E1IdQ"
   },
   "source": [
    "9. **f-Strings**:\n",
    "   - Use an f-string to format and print the variables `name = \"Alice\"` and `age = 30` in the sentence `\"Alice is 30 years old.\"`.\n"
   ]
  },
  {
   "cell_type": "code",
   "execution_count": null,
   "metadata": {
    "id": "A9N5nYNW10iK"
   },
   "outputs": [],
   "source": []
  },
  {
   "cell_type": "markdown",
   "metadata": {
    "id": "xDvNZcaY1K-p"
   },
   "source": [
    "\n",
    "\n",
    "10. **str.format() Method**:\n",
    "    - Use the `str.format()` method to print the same sentence as above."
   ]
  },
  {
   "cell_type": "code",
   "execution_count": null,
   "metadata": {
    "id": "YUXfiYGs107C"
   },
   "outputs": [],
   "source": []
  },
  {
   "cell_type": "markdown",
   "metadata": {
    "id": "3mv_VhyB1O2C"
   },
   "source": [
    "\n",
    "\n",
    "11. **Use str()**:\n",
    "    - Find the documentation of the str() function. Use it to convert a = 5 to a string.\n"
   ]
  },
  {
   "cell_type": "code",
   "execution_count": null,
   "metadata": {
    "id": "UbZZ_xNN11V1"
   },
   "outputs": [],
   "source": []
  },
  {
   "cell_type": "markdown",
   "metadata": {
    "id": "U9P_dxTq1RX8"
   },
   "source": [
    "12. **Uppercase Conversion**:\n",
    "    - Convert the string `s = \"hello\"` to uppercase and print it.\n"
   ]
  },
  {
   "cell_type": "code",
   "execution_count": null,
   "metadata": {
    "id": "AXUWhy70117X"
   },
   "outputs": [],
   "source": []
  },
  {
   "cell_type": "markdown",
   "metadata": {
    "id": "VqeS6ywr1Ttf"
   },
   "source": [
    "\n",
    "\n",
    "13. **Finding a Substring**:\n",
    "    - Given the string `s = \"hello, world\"`, find the index of the substring `\"world\"` and print it.\n"
   ]
  },
  {
   "cell_type": "code",
   "execution_count": null,
   "metadata": {
    "id": "NEWDflzn12aN"
   },
   "outputs": [],
   "source": []
  },
  {
   "cell_type": "markdown",
   "metadata": {
    "id": "9CnTR8tR1WS9"
   },
   "source": [
    "\n",
    "\n",
    "14. **Replacing Substrings**:\n",
    "    - Replace the substring `\"world\"` with `\"Python\"` in the string `s = \"hello, world\"` and print the result."
   ]
  },
  {
   "cell_type": "code",
   "execution_count": null,
   "metadata": {
    "id": "GLGdn8xU122F"
   },
   "outputs": [],
   "source": []
  },
  {
   "cell_type": "markdown",
   "metadata": {
    "id": "tZJjsHn21Zji"
   },
   "source": [
    "\n",
    "\n",
    "15. **Splitting a String**:\n",
    "    - Split the string `s = \"one, two, three\"` by commas and print the resulting list.\n"
   ]
  },
  {
   "cell_type": "code",
   "execution_count": null,
   "metadata": {
    "id": "DRgV1h4o13SA"
   },
   "outputs": [],
   "source": []
  },
  {
   "cell_type": "markdown",
   "metadata": {
    "id": "JPEBpGpf1cc_"
   },
   "source": [
    "\n",
    "\n",
    "16. **Joining Strings**:\n",
    "    - Join the list `['one', 'two', 'three']` into a single string separated by hyphens and print it.\n"
   ]
  },
  {
   "cell_type": "code",
   "execution_count": null,
   "metadata": {
    "id": "15vPuJQI1359"
   },
   "outputs": [],
   "source": []
  },
  {
   "cell_type": "markdown",
   "metadata": {
    "id": "1cTc6GR91enq"
   },
   "source": [
    "17. **Printing Variables**:\n",
    "    - Create a variable `message` with the value `\"Hello, World!\"` and print it using the `print()` function."
   ]
  },
  {
   "cell_type": "code",
   "execution_count": null,
   "metadata": {
    "id": "E2E4yCg714T0"
   },
   "outputs": [],
   "source": []
  },
  {
   "cell_type": "markdown",
   "metadata": {
    "id": "oPhpk2hA1hfP"
   },
   "source": [
    "\n",
    "\n",
    "18. **Multi-line Strings**:\n",
    "    - Create a multi-line string using triple quotes and print it.\n"
   ]
  },
  {
   "cell_type": "code",
   "execution_count": null,
   "metadata": {
    "id": "0nFiuX_T14xp"
   },
   "outputs": [],
   "source": []
  },
  {
   "cell_type": "markdown",
   "metadata": {
    "id": "QDOtC9AX1jUK"
   },
   "source": [
    "19. **Checking Prefix**:\n",
    "    - Check if the string `s = \"Python Programming\"` starts with `\"Python\"` and print the result.\n"
   ]
  },
  {
   "cell_type": "code",
   "execution_count": null,
   "metadata": {
    "id": "KbEfVI0215Q6"
   },
   "outputs": [],
   "source": []
  },
  {
   "cell_type": "markdown",
   "metadata": {
    "id": "NKJO0wPo1npi"
   },
   "source": [
    "20. **String Reversal**:\n",
    "    - Write a code snippet to reverse the string `s = \"abcdef\"` and print the reversed string."
   ]
  },
  {
   "cell_type": "code",
   "execution_count": null,
   "metadata": {
    "id": "GgoQDoPWxGFa"
   },
   "outputs": [],
   "source": []
  },
  {
   "cell_type": "markdown",
   "metadata": {
    "id": "Vdxf4NHyX4Ze"
   },
   "source": [
    "# PART 2 - Lists and Dictionaries"
   ]
  },
  {
   "cell_type": "markdown",
   "metadata": {
    "id": "QR05g1VPX4Ze"
   },
   "source": [
    "# Lists\n",
    "\n",
    "Lists are constructed with brackets [] and commas separating every element in the list.\n",
    "\n",
    "Let's go ahead and see how we can construct lists!"
   ]
  },
  {
   "cell_type": "code",
   "execution_count": null,
   "metadata": {
    "id": "9G03aZNaX4Ze"
   },
   "outputs": [],
   "source": [
    "# Assign a list to an variable named my_list\n",
    "my_list = [1,2,3]"
   ]
  },
  {
   "cell_type": "markdown",
   "metadata": {
    "id": "s1lDJxiRX4Ze"
   },
   "source": [
    "We just created a list of integers, but lists can actually hold different object types. For example:"
   ]
  },
  {
   "cell_type": "code",
   "execution_count": null,
   "metadata": {
    "id": "ULWty2eKX4Ze"
   },
   "outputs": [],
   "source": [
    "my_list = ['A string',23,100.232,'o']"
   ]
  },
  {
   "cell_type": "markdown",
   "metadata": {
    "id": "w8yFRFziX4Ze"
   },
   "source": [
    "Just like strings, the len() function will tell you how many items are in the sequence of the list."
   ]
  },
  {
   "cell_type": "code",
   "execution_count": null,
   "metadata": {
    "colab": {
     "base_uri": "https://localhost:8080/"
    },
    "id": "i_R--cFuX4Ze",
    "outputId": "f8c696c7-38b1-4f11-cd7a-568a29cc71b3"
   },
   "outputs": [],
   "source": [
    "len(my_list)"
   ]
  },
  {
   "cell_type": "markdown",
   "metadata": {
    "id": "Ba7XSFvGX4Ze"
   },
   "source": [
    "### Indexing and Slicing\n",
    "Indexing and slicing for lists work just like in strings. Let's make a new list to remind ourselves of how this works:"
   ]
  },
  {
   "cell_type": "code",
   "execution_count": null,
   "metadata": {
    "id": "YtRG6XriX4Ze"
   },
   "outputs": [],
   "source": [
    "my_list = ['one','two','three',4,5]"
   ]
  },
  {
   "cell_type": "code",
   "execution_count": null,
   "metadata": {
    "colab": {
     "base_uri": "https://localhost:8080/",
     "height": 35
    },
    "id": "hLfllE29X4Ze",
    "outputId": "cea8d598-c005-4826-bd2a-a296a8039ac5"
   },
   "outputs": [],
   "source": [
    "# Grab element at index 0\n",
    "my_list[0]"
   ]
  },
  {
   "cell_type": "code",
   "execution_count": null,
   "metadata": {
    "colab": {
     "base_uri": "https://localhost:8080/"
    },
    "id": "sAHDyBK0X4Zf",
    "outputId": "5928b032-3053-4b45-e79c-c12fb4acbe70"
   },
   "outputs": [],
   "source": [
    "# Grab index 1 and everything past it\n",
    "my_list[1:]"
   ]
  },
  {
   "cell_type": "code",
   "execution_count": null,
   "metadata": {
    "colab": {
     "base_uri": "https://localhost:8080/"
    },
    "id": "NPQpm0GoX4Zf",
    "outputId": "bedb2c8a-2f18-4652-a899-0f090a39c80d"
   },
   "outputs": [],
   "source": [
    "# Grab everything UP TO third item (through index 2)\n",
    "my_list[:3]"
   ]
  },
  {
   "cell_type": "markdown",
   "metadata": {
    "id": "JCwdLDrIX4Zf"
   },
   "source": [
    "We can also use + to concatenate lists, just like we did for strings."
   ]
  },
  {
   "cell_type": "code",
   "execution_count": null,
   "metadata": {
    "colab": {
     "base_uri": "https://localhost:8080/"
    },
    "id": "ZWHBYAk-X4Zf",
    "outputId": "bd08e975-10af-49bd-f54a-e8c229350351"
   },
   "outputs": [],
   "source": [
    "my_list + ['new item']"
   ]
  },
  {
   "cell_type": "markdown",
   "metadata": {
    "id": "f6DSmRX1X4Zf"
   },
   "source": [
    "Note: This doesn't actually change the original list!\n",
    "\n",
    "Why?\n",
    "\n",
    "In Python, concatenation is treated as a means to create a new variable. Without variable assignment, the original list will remain unchanged."
   ]
  },
  {
   "cell_type": "code",
   "execution_count": null,
   "metadata": {
    "colab": {
     "base_uri": "https://localhost:8080/"
    },
    "id": "jSY0BBSWX4Zf",
    "outputId": "5628b6d2-4d39-408e-c85b-adf7323284ec"
   },
   "outputs": [],
   "source": [
    "my_list"
   ]
  },
  {
   "cell_type": "markdown",
   "metadata": {
    "id": "FENA8XNZX4Zf"
   },
   "source": [
    "You would have to reassign the list to make the change permanent."
   ]
  },
  {
   "cell_type": "code",
   "execution_count": null,
   "metadata": {
    "id": "fc1nMxGNX4Zf"
   },
   "outputs": [],
   "source": [
    "# Reassign\n",
    "my_list = my_list + ['add new item permanently']"
   ]
  },
  {
   "cell_type": "code",
   "execution_count": null,
   "metadata": {
    "colab": {
     "base_uri": "https://localhost:8080/"
    },
    "id": "8iMasxxiX4Zf",
    "outputId": "46785c07-61a0-4525-9ff8-a2a669bbaf20"
   },
   "outputs": [],
   "source": [
    "my_list"
   ]
  },
  {
   "cell_type": "markdown",
   "metadata": {
    "id": "QiAxenDfX4Zf"
   },
   "source": [
    "We can also use the * for a duplication method similar to strings:"
   ]
  },
  {
   "cell_type": "code",
   "execution_count": null,
   "metadata": {
    "colab": {
     "base_uri": "https://localhost:8080/"
    },
    "id": "kuPzl7ptX4Zf",
    "outputId": "13fa1fa5-8d0d-4a10-a6d0-a3f6f26b96e5"
   },
   "outputs": [],
   "source": [
    "# Make the list double\n",
    "my_list * 2"
   ]
  },
  {
   "cell_type": "code",
   "execution_count": null,
   "metadata": {
    "colab": {
     "base_uri": "https://localhost:8080/"
    },
    "id": "oF_fKW_VX4Zf",
    "outputId": "ea8ae701-d7d0-467d-fd66-5724e4eef321"
   },
   "outputs": [],
   "source": [
    "# Again doubling not permanent\n",
    "my_list"
   ]
  },
  {
   "cell_type": "markdown",
   "metadata": {
    "id": "NKRSjyfLX4Zf"
   },
   "source": [
    "## Basic List Methods\n",
    "\n",
    "If you are familiar with another programming language, you might start to draw parallels between arrays in another language and lists in Python. Lists in Python however, tend to be more flexible than arrays in other languages for a two good reasons:\n",
    "\n",
    "1) they have no fixed size (meaning we don't have to specify how big a list will be)\n",
    "\n",
    "2) they have no fixed type constraint (like we've seen above).\n",
    "\n",
    "Let's go ahead and explore some more special methods for lists:"
   ]
  },
  {
   "cell_type": "code",
   "execution_count": null,
   "metadata": {
    "id": "FIuFzZcyX4Zf"
   },
   "outputs": [],
   "source": [
    "# Create a new list\n",
    "list1 = [1,2,3]\n",
    "\n",
    "print(list1)"
   ]
  },
  {
   "cell_type": "markdown",
   "metadata": {
    "id": "iJ7q6t2qX4Zf"
   },
   "source": [
    "Use the **append** method to permanently add an item to the end of a list:"
   ]
  },
  {
   "cell_type": "code",
   "execution_count": null,
   "metadata": {
    "id": "v_96YAASX4Zf"
   },
   "outputs": [],
   "source": [
    "# Append\n",
    "list1.append('append me!')"
   ]
  },
  {
   "cell_type": "code",
   "execution_count": null,
   "metadata": {
    "colab": {
     "base_uri": "https://localhost:8080/"
    },
    "id": "ojPL2IN7X4Zg",
    "outputId": "49159eb5-96ec-43f9-acc4-e670f4b601ad"
   },
   "outputs": [],
   "source": [
    "# Show\n",
    "list1"
   ]
  },
  {
   "cell_type": "markdown",
   "metadata": {
    "id": "eTMZLx3aX4Zg"
   },
   "source": [
    "Use **pop** to \"pop off\" an item from the list. By default pop takes off the last index (-1), but you can also specify which index to pop off. Let's see an example:"
   ]
  },
  {
   "cell_type": "code",
   "execution_count": null,
   "metadata": {
    "colab": {
     "base_uri": "https://localhost:8080/"
    },
    "id": "URn3KSgZX4Zg",
    "outputId": "1800b5e5-da67-4103-8399-9426d30773c2"
   },
   "outputs": [],
   "source": [
    "# Pop off the 0 indexed item\n",
    "list1.pop(0)"
   ]
  },
  {
   "cell_type": "code",
   "execution_count": null,
   "metadata": {
    "colab": {
     "base_uri": "https://localhost:8080/"
    },
    "id": "UIW9wSfYX4Zg",
    "outputId": "b9a255e0-c020-4564-eabe-07a201136ac9"
   },
   "outputs": [],
   "source": [
    "# Show\n",
    "\n",
    "# the first item was removed!\n",
    "list1"
   ]
  },
  {
   "cell_type": "code",
   "execution_count": null,
   "metadata": {
    "id": "72tgp7XrX4Zg"
   },
   "outputs": [],
   "source": [
    "# Assign the popped element, remember default popped index is -1\n",
    "popped_item = list1.pop()"
   ]
  },
  {
   "cell_type": "code",
   "execution_count": null,
   "metadata": {
    "colab": {
     "base_uri": "https://localhost:8080/",
     "height": 35
    },
    "id": "I1K3PmW7X4Zg",
    "outputId": "92490d92-ba74-4b18-9707-b14010f1cedf"
   },
   "outputs": [],
   "source": [
    "popped_item"
   ]
  },
  {
   "cell_type": "code",
   "execution_count": null,
   "metadata": {
    "colab": {
     "base_uri": "https://localhost:8080/"
    },
    "id": "mCWbvFe8X4Zg",
    "outputId": "b24d7008-dad2-4d9a-a901-6146776c5c4a"
   },
   "outputs": [],
   "source": [
    "# Show remaining list\n",
    "list1"
   ]
  },
  {
   "cell_type": "markdown",
   "metadata": {
    "id": "xgbk_o7eX4Zg"
   },
   "source": [
    "It should also be noted that lists indexing will return an error if there is no element at that index (just like for strings). For example:"
   ]
  },
  {
   "cell_type": "code",
   "execution_count": null,
   "metadata": {
    "colab": {
     "base_uri": "https://localhost:8080/",
     "height": 144
    },
    "id": "NN7cCVTqX4Zg",
    "outputId": "3031565f-f34c-4b54-d7b0-60c7aeb36479"
   },
   "outputs": [],
   "source": [
    "list1[100]"
   ]
  },
  {
   "cell_type": "markdown",
   "metadata": {
    "id": "f_r1rc9-X4Zg"
   },
   "source": [
    "We can use the **sort** method and the **reverse** methods to also effect your lists:"
   ]
  },
  {
   "cell_type": "code",
   "execution_count": null,
   "metadata": {
    "id": "kavepEzIX4Zg"
   },
   "outputs": [],
   "source": [
    "new_list = ['a','e','x','b','c']"
   ]
  },
  {
   "cell_type": "code",
   "execution_count": null,
   "metadata": {
    "colab": {
     "base_uri": "https://localhost:8080/"
    },
    "id": "KRIumBDYX4Zg",
    "outputId": "a6e61215-0aba-41fc-d723-ab04a1e386a2"
   },
   "outputs": [],
   "source": [
    "#Show\n",
    "new_list"
   ]
  },
  {
   "cell_type": "code",
   "execution_count": null,
   "metadata": {
    "id": "xoBy8KCmX4Zg"
   },
   "outputs": [],
   "source": [
    "# Use reverse to reverse order (this is permanent!)\n",
    "new_list.reverse()"
   ]
  },
  {
   "cell_type": "code",
   "execution_count": null,
   "metadata": {
    "colab": {
     "base_uri": "https://localhost:8080/"
    },
    "id": "tZK35n6wX4Zg",
    "outputId": "f4f9fbd0-fc7d-4af2-d056-146eccb17ac6"
   },
   "outputs": [],
   "source": [
    "new_list"
   ]
  },
  {
   "cell_type": "code",
   "execution_count": null,
   "metadata": {
    "id": "u2k9SO30X4Zg"
   },
   "outputs": [],
   "source": [
    "# Use sort to sort the list (in this case alphabetical order, but for numbers it will go ascending)\n",
    "new_list.sort()"
   ]
  },
  {
   "cell_type": "code",
   "execution_count": null,
   "metadata": {
    "colab": {
     "base_uri": "https://localhost:8080/"
    },
    "id": "QVRzxcz-X4Zg",
    "outputId": "71aface4-48d0-4512-c702-96948b62401f"
   },
   "outputs": [],
   "source": [
    "new_list"
   ]
  },
  {
   "cell_type": "markdown",
   "metadata": {
    "id": "W9uyGBDiX4Zh"
   },
   "source": [
    "You can also have a list of lists:"
   ]
  },
  {
   "cell_type": "code",
   "execution_count": null,
   "metadata": {
    "colab": {
     "base_uri": "https://localhost:8080/"
    },
    "id": "94T6MOv0X4Zh",
    "outputId": "5dfda36d-8647-40cb-8023-d15d47d2b8f8"
   },
   "outputs": [],
   "source": [
    "list_of_lists = ['z', 'y', 'x']\n",
    "\n",
    "list_of_lists.append(new_list)\n",
    "\n",
    "list_of_lists"
   ]
  },
  {
   "cell_type": "markdown",
   "metadata": {
    "id": "Mb8i7aNDX4Zh"
   },
   "source": [
    "To slice a list within a list, make sure you have the index right!"
   ]
  },
  {
   "cell_type": "code",
   "execution_count": null,
   "metadata": {
    "colab": {
     "base_uri": "https://localhost:8080/",
     "height": 35
    },
    "id": "WiJ63oqdX4Zh",
    "outputId": "e3c431a9-5762-4b41-952a-6db6fdd752c7"
   },
   "outputs": [],
   "source": [
    "list_of_lists[3][1] # to get inside the internal list"
   ]
  },
  {
   "cell_type": "markdown",
   "metadata": {
    "id": "HT_bWwYGX4Zh"
   },
   "source": [
    "Let's look at available methods for lists:"
   ]
  },
  {
   "cell_type": "code",
   "execution_count": null,
   "metadata": {
    "colab": {
     "base_uri": "https://localhost:8080/"
    },
    "id": "ZI_pn-FmX4Zh",
    "outputId": "9b79055c-b822-4076-bd9c-a9dbd1d697f9"
   },
   "outputs": [],
   "source": [
    "dir(new_list)"
   ]
  },
  {
   "cell_type": "markdown",
   "metadata": {
    "id": "tYfzFm5aX4Zh"
   },
   "source": [
    "More to come on this but when using the dir() function on an object, all methods are returned (even ones you are probably not interested in). Public methods are intended to be used by anyone and DO NOT include the double underscores before and after the method name.\n",
    "\n",
    "In our case, we are only interested in append, clear, copy, count, extend, index, insert, pop, remove, reverse, and sort to manipulate a list."
   ]
  },
  {
   "cell_type": "markdown",
   "metadata": {
    "id": "NL8s4Zu2X4Zh"
   },
   "source": [
    "# Dictionaries\n",
    "\n",
    "A Python dictionary consists of a key and then an associated value. That value can be almost any Python object.\n",
    "\n",
    "\n",
    "## Constructing a Dictionary\n",
    "Let's see how we can construct dictionaries to get a better understanding of how they work!"
   ]
  },
  {
   "cell_type": "code",
   "execution_count": null,
   "metadata": {
    "id": "y1b66OQNX4Zh"
   },
   "outputs": [],
   "source": [
    "# Make a dictionary with {} and : to signify a key and a value\n",
    "my_dict = {'key1':'value1','key2':'value2'}"
   ]
  },
  {
   "cell_type": "code",
   "execution_count": null,
   "metadata": {
    "colab": {
     "base_uri": "https://localhost:8080/",
     "height": 35
    },
    "id": "lnobF8gHX4Zh",
    "outputId": "3ccb01bd-009a-4b89-ab91-5adba31dd540"
   },
   "outputs": [],
   "source": [
    "# Call values by their key\n",
    "my_dict['key2']"
   ]
  },
  {
   "cell_type": "markdown",
   "metadata": {
    "id": "zPE0raVWX4Zh"
   },
   "source": [
    "Dictionaries are very flexible in the data types they can hold. However, keys of a dictionary can only be immutable data types (unlike the values).\n",
    "\n",
    "Examples of Valid Keys: Strings, numbers, tuples (with immutable elements), and frozen sets.\n",
    "Examples of Invalid Keys: Lists, dictionaries, and sets."
   ]
  },
  {
   "cell_type": "code",
   "execution_count": null,
   "metadata": {
    "id": "LzIRQBWyX4Zh"
   },
   "outputs": [],
   "source": [
    "my_dict = {'key1':123,'key2':[12,23,33],'key3':['item0','item1','item2']}"
   ]
  },
  {
   "cell_type": "code",
   "execution_count": null,
   "metadata": {
    "colab": {
     "base_uri": "https://localhost:8080/"
    },
    "id": "24ZGP3H1X4Zh",
    "outputId": "bbd4f940-01a9-42d0-ad6c-28cd0a42dea5"
   },
   "outputs": [],
   "source": [
    "# Let's call items from the dictionary\n",
    "my_dict['key3']"
   ]
  },
  {
   "cell_type": "code",
   "execution_count": null,
   "metadata": {
    "colab": {
     "base_uri": "https://localhost:8080/",
     "height": 35
    },
    "id": "KcMiwdERX4Zh",
    "outputId": "f2a45878-d00f-44ce-df58-3b9bc7729d3a"
   },
   "outputs": [],
   "source": [
    "# Can call an index on that value\n",
    "my_dict['key3'][0]"
   ]
  },
  {
   "cell_type": "code",
   "execution_count": null,
   "metadata": {
    "colab": {
     "base_uri": "https://localhost:8080/",
     "height": 35
    },
    "id": "npRHl8SEX4Zh",
    "outputId": "3cb74344-9014-453d-b9b9-c4752de1046d"
   },
   "outputs": [],
   "source": [
    "# Can then even call methods on that value\n",
    "my_dict['key3'][0].upper()"
   ]
  },
  {
   "cell_type": "code",
   "execution_count": null,
   "metadata": {
    "colab": {
     "base_uri": "https://localhost:8080/",
     "height": 35
    },
    "id": "ju_te1SZejE-",
    "outputId": "a1f4820a-62fe-4299-8809-62413b6ef359"
   },
   "outputs": [],
   "source": [
    "# however again, the value itself is not changed\n",
    "my_dict['key3'][0]"
   ]
  },
  {
   "cell_type": "code",
   "execution_count": null,
   "metadata": {
    "colab": {
     "base_uri": "https://localhost:8080/",
     "height": 35
    },
    "id": "3cVEUI7wesrF",
    "outputId": "88ae4757-2bbc-415a-80dd-94d4effaaed8"
   },
   "outputs": [],
   "source": [
    "# to change the value, we would need to reassign it in the same spot\n",
    "my_dict['key3'][0] = my_dict['key3'][0].upper()\n",
    "\n",
    "my_dict['key3'][0]"
   ]
  },
  {
   "cell_type": "markdown",
   "metadata": {
    "id": "a7Uu5mHUX4Zh"
   },
   "source": [
    "We can affect the values of a key as well. For instance:"
   ]
  },
  {
   "cell_type": "markdown",
   "metadata": {
    "id": "4adYeqX1X4Zi"
   },
   "source": [
    "We can also create keys by assignment. For instance if we started off with an empty dictionary, we could continually add to it:"
   ]
  },
  {
   "cell_type": "code",
   "execution_count": null,
   "metadata": {
    "id": "rTurMvLjX4Zi"
   },
   "outputs": [],
   "source": [
    "# Create a new dictionary\n",
    "d = {}"
   ]
  },
  {
   "cell_type": "code",
   "execution_count": null,
   "metadata": {
    "id": "T898N4b0X4Zi"
   },
   "outputs": [],
   "source": [
    "# Create a new key through assignment\n",
    "d['animal'] = 'Dog'"
   ]
  },
  {
   "cell_type": "code",
   "execution_count": null,
   "metadata": {
    "id": "3IVvnvVoX4Zi"
   },
   "outputs": [],
   "source": [
    "# Can do this with any object\n",
    "d['answer'] = 42"
   ]
  },
  {
   "cell_type": "code",
   "execution_count": null,
   "metadata": {
    "id": "ueB_CsCDX4Zi",
    "outputId": "26ca38f2-d5ee-43c9-9049-5c9a41535cd5"
   },
   "outputs": [],
   "source": [
    "#Show\n",
    "d"
   ]
  },
  {
   "cell_type": "markdown",
   "metadata": {
    "id": "RnUhyvdpX4Zi"
   },
   "source": [
    "## A few Dictionary Methods\n",
    "\n",
    "There are a few methods we can call on a dictionary. Let's get a quick introduction to a few of them:"
   ]
  },
  {
   "cell_type": "code",
   "execution_count": null,
   "metadata": {
    "id": "pXitrESdX4Zi"
   },
   "outputs": [],
   "source": [
    "# Create a typical dictionary\n",
    "d = {'key1':1,'key2':2,'key3':3}"
   ]
  },
  {
   "cell_type": "code",
   "execution_count": null,
   "metadata": {
    "colab": {
     "base_uri": "https://localhost:8080/"
    },
    "id": "ZkDZWdOzX4Zi",
    "outputId": "65047c0f-888f-4bff-e1cf-ae22d3695ef9"
   },
   "outputs": [],
   "source": [
    "# Method to return a list of all keys\n",
    "d.keys()"
   ]
  },
  {
   "cell_type": "code",
   "execution_count": null,
   "metadata": {
    "colab": {
     "base_uri": "https://localhost:8080/"
    },
    "id": "Plvq6MvOX4Zi",
    "outputId": "8f070051-eb10-4d5d-a6c1-64a797df133a"
   },
   "outputs": [],
   "source": [
    "# Method to grab all values\n",
    "d.values()"
   ]
  },
  {
   "cell_type": "code",
   "execution_count": null,
   "metadata": {
    "colab": {
     "base_uri": "https://localhost:8080/"
    },
    "id": "9dqzHu7gX4Zi",
    "outputId": "89a1b7f7-86ae-4aa2-b373-3d2d24cd0e38"
   },
   "outputs": [],
   "source": [
    "# Method to return tuples of all items  (we'll learn about tuples soon)\n",
    "d.items()"
   ]
  },
  {
   "cell_type": "code",
   "execution_count": null,
   "metadata": {
    "colab": {
     "base_uri": "https://localhost:8080/"
    },
    "id": "BwN-RoyfX4Zi",
    "outputId": "21fe18d1-7789-4503-c842-dfba4f96a2a3"
   },
   "outputs": [],
   "source": [
    "dir(d)"
   ]
  },
  {
   "cell_type": "markdown",
   "metadata": {
    "id": "XKX1EwToX4Zi"
   },
   "source": [
    "## Part 2 Exercises"
   ]
  },
  {
   "cell_type": "code",
   "execution_count": null,
   "metadata": {
    "id": "uF2h99l3X4Zi"
   },
   "outputs": [],
   "source": [
    "# Exercise 1: List Initialization\n",
    "# Create a list containing the numbers from 1 to 10 and print the list."
   ]
  },
  {
   "cell_type": "code",
   "execution_count": null,
   "metadata": {
    "id": "nC8wrK6GX4Zj"
   },
   "outputs": [],
   "source": [
    "# Exercise 2: Access Elements\n",
    "# Access and print the third element in the list."
   ]
  },
  {
   "cell_type": "code",
   "execution_count": null,
   "metadata": {
    "id": "mvOdqbO0X4Zj"
   },
   "outputs": [],
   "source": [
    "# Exercise 3: List Slicing\n",
    "# Print the last 3 elements of the list."
   ]
  },
  {
   "cell_type": "code",
   "execution_count": null,
   "metadata": {
    "id": "yl8mvcjWX4Zj"
   },
   "outputs": [],
   "source": [
    "# Exercise 4: List Concatenation\n",
    "# Concatenate the list with another list [11, 12, 13] and print the result."
   ]
  },
  {
   "cell_type": "code",
   "execution_count": null,
   "metadata": {
    "id": "cxOP6EKsX4Zj"
   },
   "outputs": [],
   "source": [
    "# Exercise 5: Dictionary Initialization\n",
    "# Create a dictionary with keys 1 to 5 and their values as the cube of the keys."
   ]
  },
  {
   "cell_type": "code",
   "execution_count": null,
   "metadata": {
    "id": "fUTX9erqX4Zj"
   },
   "outputs": [],
   "source": [
    "# Exercise 6: Access Dictionary Value\n",
    "# Access and print the value for the key 4 in the dictionary from Exercise 5."
   ]
  },
  {
   "cell_type": "code",
   "execution_count": null,
   "metadata": {
    "id": "ZZyk612bX4Zj"
   },
   "outputs": [],
   "source": [
    "# Exercise 7: Add to Dictionary\n",
    "# Add a new key-value pair (6, 216) to the dictionary and print it."
   ]
  },
  {
   "cell_type": "code",
   "execution_count": null,
   "metadata": {
    "id": "FoVksO5cX4Zj"
   },
   "outputs": [],
   "source": [
    "# Exercise 8: Remove from Dictionary\n",
    "# Remove the key-value pair with key 2 from the dictionary and print the result."
   ]
  },
  {
   "cell_type": "code",
   "execution_count": null,
   "metadata": {
    "id": "nhTNb_LaX4Zj"
   },
   "outputs": [],
   "source": [
    "# Exercise 9: Dictionary Keys and Values\n",
    "# Get and print the keys and values from the dictionary."
   ]
  },
  {
   "cell_type": "code",
   "execution_count": null,
   "metadata": {
    "id": "9423_Lj4X4Zj"
   },
   "outputs": [],
   "source": [
    "# Exercise 10: Dictionary Error\n",
    "# Try to create an invalid type of key and force an error in Python"
   ]
  },
  {
   "cell_type": "markdown",
   "metadata": {
    "id": "Q_dmLdV6X4Zj"
   },
   "source": [
    "# Part 3 Mutability, Tuples, Sets, Booleans, and Comparison Operators"
   ]
  },
  {
   "cell_type": "markdown",
   "metadata": {
    "id": "ED6PBpP9X4Zj"
   },
   "source": [
    "## immutable and mutable\n",
    "\n",
    "In Python and many other programming languages, data types are categorized as either immutable or mutable. This distinction is important because it affects how you can work with objects and data structures in your code. Here's an explanation:\n",
    "\n",
    "### Immutable\n",
    "\n",
    "    Definition: Immutable objects cannot be changed after they are created.\n",
    "    Behavior: When you attempt to modify an immutable object, what actually happens is that a new object is created with the new value. The original object remains unchanged.\n",
    "    Examples:\n",
    "        int, float, bool, str, tuple: These basic data types in Python are immutable.\n",
    "        String: If you concatenate some text to a string, Python creates a new string with the combined text because strings are immutable.\n",
    "        Tuple: Once a tuple is created, you cannot add, remove, or change its elements.\n",
    "\n",
    "### Mutable\n",
    "\n",
    "    Definition: Mutable objects can be changed after they are created.\n",
    "    Behavior: You can change, add, or remove items of a mutable object. This is done in-place without creating a new object (unless you explicitly do so).\n",
    "    Examples:\n",
    "        list, dict, set: These are examples of mutable data types.\n",
    "        List: You can add, remove, or modify items in a list. The changes are made to the same list object in memory.\n",
    "        Dictionary: You can add new key-value pairs to a dictionary or change the value of an existing key.\n",
    "\n",
    "### Implications in Programming\n",
    "\n",
    "    Memory Usage: Mutable objects can be more memory efficient because they allow in-place modifications.\n",
    "    Performance Considerations: Operations on immutable objects can be slower in scenarios that involve large data sets or frequent modifications because they involve creating new objects.\n",
    "    Safety: Immutable objects are inherently thread-safe and easier to reason about, as their state cannot change. This is useful in concurrent programming.\n",
    "    Function Arguments: Understanding mutability is important when passing objects as arguments to functions. Modifying a mutable object within a function affects the object outside the function as well."
   ]
  },
  {
   "cell_type": "markdown",
   "metadata": {
    "id": "X8EWhQJ2X4Zj"
   },
   "source": [
    "## Tuples\n",
    "\n",
    "In Python, tuples are very similar to lists, however, unlike lists they are *immutable* meaning they can not be changed. You would use tuples to present things that shouldn't be changed, such as days of the week, or dates on a calendar.\n",
    "\n",
    "### Constructing Tuples\n",
    "\n",
    "The construction of a tuples use () with elements separated by commas. For example:"
   ]
  },
  {
   "cell_type": "code",
   "execution_count": null,
   "metadata": {
    "id": "-FJV-zzdX4Zj"
   },
   "outputs": [],
   "source": [
    "# Create a tuple\n",
    "t = (1,2,3)"
   ]
  },
  {
   "cell_type": "code",
   "execution_count": null,
   "metadata": {
    "colab": {
     "base_uri": "https://localhost:8080/"
    },
    "id": "Abd0Hl6NX4Zk",
    "outputId": "65cac074-3ce4-4497-e042-ec3b8bf21a47"
   },
   "outputs": [],
   "source": [
    "# Check len just like a list\n",
    "len(t)"
   ]
  },
  {
   "cell_type": "code",
   "execution_count": null,
   "metadata": {
    "colab": {
     "base_uri": "https://localhost:8080/"
    },
    "id": "4wGS77S-X4Zk",
    "outputId": "fcace4f9-520b-45d3-c51f-71badd240505"
   },
   "outputs": [],
   "source": [
    "# Can also mix object types\n",
    "# we are reassigning the variable t completely\n",
    "t = ('one',2)\n",
    "\n",
    "# Show\n",
    "t"
   ]
  },
  {
   "cell_type": "code",
   "execution_count": null,
   "metadata": {
    "colab": {
     "base_uri": "https://localhost:8080/",
     "height": 35
    },
    "id": "TreXRM6FX4Zk",
    "outputId": "1340c0e2-fcd3-4ee4-8089-a66afafc78d7"
   },
   "outputs": [],
   "source": [
    "# Use indexing just like we did in lists\n",
    "t[0]"
   ]
  },
  {
   "cell_type": "code",
   "execution_count": null,
   "metadata": {
    "colab": {
     "base_uri": "https://localhost:8080/"
    },
    "id": "udn0iu-yX4Zk",
    "outputId": "89456340-79d4-487e-853c-c7426acf128f"
   },
   "outputs": [],
   "source": [
    "# Slicing just like a list\n",
    "t[-1]"
   ]
  },
  {
   "cell_type": "markdown",
   "metadata": {
    "id": "G-qryEX3X4Zk"
   },
   "source": [
    "## Basic Tuple Methods\n",
    "\n",
    "Tuples have built-in methods, but not as many as lists do."
   ]
  },
  {
   "cell_type": "code",
   "execution_count": null,
   "metadata": {
    "colab": {
     "base_uri": "https://localhost:8080/"
    },
    "id": "ZhoVS1wyX4Zk",
    "outputId": "86880aeb-bb40-4287-f026-db36ffad327d"
   },
   "outputs": [],
   "source": [
    "# Use .index to enter a value and return the index\n",
    "t.index('one')"
   ]
  },
  {
   "cell_type": "code",
   "execution_count": null,
   "metadata": {
    "colab": {
     "base_uri": "https://localhost:8080/"
    },
    "id": "fcoGTGHAX4Zk",
    "outputId": "45ae257c-1ce2-475c-baa7-7645cef8d804"
   },
   "outputs": [],
   "source": [
    "# Use .count to count the number of times a value appears\n",
    "t.count('one')"
   ]
  },
  {
   "cell_type": "code",
   "execution_count": null,
   "metadata": {
    "colab": {
     "base_uri": "https://localhost:8080/"
    },
    "id": "3TbTqXFSlEid",
    "outputId": "a7a1432d-bd72-4ce3-a39e-b96e21e78a41"
   },
   "outputs": [],
   "source": [
    "dir(t)"
   ]
  },
  {
   "cell_type": "markdown",
   "metadata": {
    "id": "e242vCF7X4Zk"
   },
   "source": [
    "## Immutability\n",
    "\n",
    "tuples are immutable."
   ]
  },
  {
   "cell_type": "code",
   "execution_count": null,
   "metadata": {
    "colab": {
     "base_uri": "https://localhost:8080/",
     "height": 144
    },
    "id": "rdALrwQEX4Zk",
    "outputId": "b36934ee-33ec-4b67-8658-aec7e4118b08"
   },
   "outputs": [],
   "source": [
    "t[0]= 'change'"
   ]
  },
  {
   "cell_type": "markdown",
   "metadata": {
    "id": "26kKOJGoX4Zk"
   },
   "source": [
    "Because of this immutability, tuples can't grow. Once a tuple is made we can not add to it."
   ]
  },
  {
   "cell_type": "code",
   "execution_count": null,
   "metadata": {
    "colab": {
     "base_uri": "https://localhost:8080/",
     "height": 144
    },
    "id": "ZSlDY_2HX4Zk",
    "outputId": "fceb1b89-4ba7-4aa0-f3ee-75afa415ae8c"
   },
   "outputs": [],
   "source": [
    "t.append('nope')"
   ]
  },
  {
   "cell_type": "markdown",
   "metadata": {
    "id": "-PpAvkLIX4Zk"
   },
   "source": [
    "## When to use Tuples\n",
    "\n",
    "tuples are not used as often as lists in programming, but are used when immutability is necessary. If in your program you are passing around an object and need to make sure it does not get changed, then a tuple becomes your solution."
   ]
  },
  {
   "cell_type": "markdown",
   "metadata": {
    "id": "8MQjxDVZX4Zk"
   },
   "source": [
    "## Set and Booleans\n",
    "\n",
    "There are two other object types in Python: Sets and Booleans.\n",
    "\n",
    "### Sets\n",
    "\n",
    "Sets are an unordered collection of *unique* elements. We can construct them by using the set() function."
   ]
  },
  {
   "cell_type": "code",
   "execution_count": null,
   "metadata": {
    "id": "sQgtTnXoX4Zk"
   },
   "outputs": [],
   "source": [
    "x = set()"
   ]
  },
  {
   "cell_type": "code",
   "execution_count": null,
   "metadata": {
    "id": "3Tte2njpX4Zk"
   },
   "outputs": [],
   "source": [
    "# We add to sets with the add() method\n",
    "x.add(1)"
   ]
  },
  {
   "cell_type": "code",
   "execution_count": null,
   "metadata": {
    "colab": {
     "base_uri": "https://localhost:8080/"
    },
    "id": "x3TIYEqfX4Zk",
    "outputId": "68f487e5-ba37-4292-f2ad-11def5299f74"
   },
   "outputs": [],
   "source": [
    "#Show\n",
    "x"
   ]
  },
  {
   "cell_type": "code",
   "execution_count": null,
   "metadata": {
    "id": "7ZjTCPPfX4Zl"
   },
   "outputs": [],
   "source": [
    "# Add a different element\n",
    "x.add(2)"
   ]
  },
  {
   "cell_type": "code",
   "execution_count": null,
   "metadata": {
    "colab": {
     "base_uri": "https://localhost:8080/"
    },
    "id": "Q2IvH9xOX4Zl",
    "outputId": "edc833ae-3c49-4622-ca2d-3e9f9048d66c"
   },
   "outputs": [],
   "source": [
    "#Show\n",
    "x"
   ]
  },
  {
   "cell_type": "code",
   "execution_count": null,
   "metadata": {
    "id": "_r_kDD44X4Zl"
   },
   "outputs": [],
   "source": [
    "# Try to add the same element\n",
    "x.add(1)"
   ]
  },
  {
   "cell_type": "code",
   "execution_count": null,
   "metadata": {
    "colab": {
     "base_uri": "https://localhost:8080/"
    },
    "id": "gcj1cLpBX4Zl",
    "outputId": "a3d78e51-9e1d-4ab6-c36b-48d95e0be6f9"
   },
   "outputs": [],
   "source": [
    "#Show\n",
    "x"
   ]
  },
  {
   "cell_type": "markdown",
   "metadata": {
    "id": "l_PA50dlX4Zl"
   },
   "source": [
    "Notice how it won't place another 1 there. That's because a set is only concerned with unique elements! We can cast a list with multiple repeat elements to a set to get the unique elements. For example:"
   ]
  },
  {
   "cell_type": "code",
   "execution_count": null,
   "metadata": {
    "id": "8uM0jCTHX4Zl"
   },
   "outputs": [],
   "source": [
    "# Create a list with repeats\n",
    "list1 = [1,1,2,2,3,4,5,6,1,1]"
   ]
  },
  {
   "cell_type": "code",
   "execution_count": null,
   "metadata": {
    "colab": {
     "base_uri": "https://localhost:8080/"
    },
    "id": "tsq6xZlBX4Zl",
    "outputId": "463f74e8-fda5-4c21-ea84-fb61012e9e02"
   },
   "outputs": [],
   "source": [
    "# Cast as set to get unique values\n",
    "set(list1)"
   ]
  },
  {
   "cell_type": "markdown",
   "metadata": {
    "id": "QvR8onLOldfV"
   },
   "source": [
    "Another unique attributes of sets is that they DO NOT MAINTAIN THEIR ORDER OF ELEMENT. Meaning, if you use a set, the order might be different every time. For example:"
   ]
  },
  {
   "cell_type": "code",
   "execution_count": null,
   "metadata": {
    "colab": {
     "base_uri": "https://localhost:8080/"
    },
    "id": "AKXp06-olmNN",
    "outputId": "7688becc-721b-4b53-cc27-c8fa97e533f0"
   },
   "outputs": [],
   "source": [
    "my_set = {3, 1, 2}\n",
    "print(my_set)  # Output might be {1, 2, 3} or {3, 2, 1}; however google colab displays ordered"
   ]
  },
  {
   "cell_type": "markdown",
   "metadata": {
    "id": "94-6HS5lmjIR"
   },
   "source": [
    "Proof that sets are unordered in Python - there is no direct way to index a set:"
   ]
  },
  {
   "cell_type": "code",
   "execution_count": null,
   "metadata": {
    "colab": {
     "base_uri": "https://localhost:8080/",
     "height": 144
    },
    "id": "jH_nO-3NmV6I",
    "outputId": "5673de6c-4443-46b8-e0e0-984e548c7163"
   },
   "outputs": [],
   "source": [
    "x[0]"
   ]
  },
  {
   "cell_type": "code",
   "execution_count": null,
   "metadata": {
    "colab": {
     "base_uri": "https://localhost:8080/"
    },
    "id": "oCXd9j1KmnlJ",
    "outputId": "8b3ab7fb-2cb5-4293-81b8-4f2301f600b9"
   },
   "outputs": [],
   "source": [
    "# instead convert to a list and then print the first element\n",
    "# again, Google Colab orders the output and shouldn't be relied upon\n",
    "my_set = {3, 1, 2}\n",
    "my_list = list(my_set)\n",
    "print(my_list[0])"
   ]
  },
  {
   "cell_type": "markdown",
   "metadata": {
    "id": "P-OCdnCnl2AE"
   },
   "source": [
    "* Sets do not maintain order and their elements are unordered.\n",
    "* Lists maintain the order of elements and allow duplicates.\n",
    "* Dictionaries (Python 3.7+) maintain the order of keys as inserted."
   ]
  },
  {
   "cell_type": "markdown",
   "metadata": {
    "id": "5akLmXEHX4Zl"
   },
   "source": [
    "### Booleans\n",
    "\n",
    "Python  comes with Booleans (with predefined True and False displays that are basically just the integers 1 and 0). It also has a placeholder object called None."
   ]
  },
  {
   "cell_type": "code",
   "execution_count": null,
   "metadata": {
    "id": "egBq4r5IX4Zl"
   },
   "outputs": [],
   "source": [
    "# Set object to be a boolean\n",
    "a = True"
   ]
  },
  {
   "cell_type": "code",
   "execution_count": null,
   "metadata": {
    "colab": {
     "base_uri": "https://localhost:8080/"
    },
    "id": "ap4gxTv8X4Zl",
    "outputId": "54c577e1-fbd0-4db2-d6f8-0c90945f2e16"
   },
   "outputs": [],
   "source": [
    "#Show\n",
    "a"
   ]
  },
  {
   "cell_type": "code",
   "execution_count": null,
   "metadata": {
    "colab": {
     "base_uri": "https://localhost:8080/"
    },
    "id": "T8i3T9JFX4Zl",
    "outputId": "72b807cf-2635-4c86-a31d-850abe0f8b9d"
   },
   "outputs": [],
   "source": [
    "# Output is boolean\n",
    "1 > 2"
   ]
  },
  {
   "cell_type": "markdown",
   "metadata": {
    "id": "DD_UDPXdX4Zl"
   },
   "source": [
    "We can use None as a placeholder for an object that we don't want to reassign yet:"
   ]
  },
  {
   "cell_type": "code",
   "execution_count": null,
   "metadata": {
    "id": "CAlbwwWEX4Zl"
   },
   "outputs": [],
   "source": [
    "# None placeholder\n",
    "b = None"
   ]
  },
  {
   "cell_type": "code",
   "execution_count": null,
   "metadata": {
    "colab": {
     "base_uri": "https://localhost:8080/"
    },
    "id": "Nf-Z7HXmX4Zl",
    "outputId": "6e8dda47-5a6b-4b3e-dc54-be5354f8cc38"
   },
   "outputs": [],
   "source": [
    "# Show\n",
    "print(b)"
   ]
  },
  {
   "cell_type": "code",
   "execution_count": null,
   "metadata": {
    "id": "KJA4uAAUX4Zl"
   },
   "outputs": [],
   "source": [
    "b"
   ]
  },
  {
   "cell_type": "markdown",
   "metadata": {
    "id": "Y3IYchr-X4Zl"
   },
   "source": [
    "# Comparison Operators\n",
    "\n",
    "These operators will allow us to compare variables and output a Boolean value (True or False).\n",
    "\n",
    "If you have any sort of background in Math, these operators should be very straight forward.\n",
    "\n",
    "First we'll present a table of the comparison operators and then work through some examples:\n",
    "\n",
    "<h2> Table of Comparison Operators </h2><p>  In the table below, a=3 and b=4.</p>\n",
    "\n",
    "<table class=\"table table-bordered\">\n",
    "<tr>\n",
    "<th style=\"width:10%\">Operator</th><th style=\"width:45%\">Description</th><th>Example</th>\n",
    "</tr>\n",
    "<tr>\n",
    "<td>==</td>\n",
    "<td>If the values of two operands are equal, then the condition becomes true.</td>\n",
    "<td> (a == b) is not true.</td>\n",
    "</tr>\n",
    "<tr>\n",
    "<td>!=</td>\n",
    "<td>If values of two operands are not equal, then condition becomes true.</td>\n",
    "<td>(a != b) is true</td>\n",
    "</tr>\n",
    "<tr>\n",
    "<td>&gt;</td>\n",
    "<td>If the value of left operand is greater than the value of right operand, then condition becomes true.</td>\n",
    "<td> (a &gt; b) is not true.</td>\n",
    "</tr>\n",
    "<tr>\n",
    "<td>&lt;</td>\n",
    "<td>If the value of left operand is less than the value of right operand, then condition becomes true.</td>\n",
    "<td> (a &lt; b) is true.</td>\n",
    "</tr>\n",
    "<tr>\n",
    "<td>&gt;=</td>\n",
    "<td>If the value of left operand is greater than or equal to the value of right operand, then condition becomes true.</td>\n",
    "<td> (a &gt;= b) is not true. </td>\n",
    "</tr>\n",
    "<tr>\n",
    "<td>&lt;=</td>\n",
    "<td>If the value of left operand is less than or equal to the value of right operand, then condition becomes true.</td>\n",
    "<td> (a &lt;= b) is true. </td>\n",
    "</tr>\n",
    "</table>"
   ]
  },
  {
   "cell_type": "markdown",
   "metadata": {
    "id": "XatPchhtX4Zl"
   },
   "source": [
    "Let's now work through quick examples of each of these.\n",
    "\n",
    "#### Equal"
   ]
  },
  {
   "cell_type": "code",
   "execution_count": null,
   "metadata": {
    "colab": {
     "base_uri": "https://localhost:8080/"
    },
    "id": "ty8Y-BTHX4Zl",
    "outputId": "03ffa283-5c13-4d3d-cb02-a091272f4dd8"
   },
   "outputs": [],
   "source": [
    "2 == 2"
   ]
  },
  {
   "cell_type": "code",
   "execution_count": null,
   "metadata": {
    "colab": {
     "base_uri": "https://localhost:8080/"
    },
    "id": "BufEm0z6X4Zl",
    "outputId": "3d99ccef-a87e-44d1-a50c-5436be93eb50"
   },
   "outputs": [],
   "source": [
    "1 == 0"
   ]
  },
  {
   "cell_type": "markdown",
   "metadata": {
    "id": "Se_tXwGLX4Zm"
   },
   "source": [
    "Note that <code>==</code> is a <em>comparison</em> operator, while <code>=</code> is an <em>assignment</em> operator."
   ]
  },
  {
   "cell_type": "markdown",
   "metadata": {
    "id": "i-7yZtfgX4Zm"
   },
   "source": [
    "#### Not Equal"
   ]
  },
  {
   "cell_type": "code",
   "execution_count": null,
   "metadata": {
    "colab": {
     "base_uri": "https://localhost:8080/"
    },
    "id": "HJt9i3uIX4Zm",
    "outputId": "cd27b502-4d41-445f-d416-1c16666b9fb3"
   },
   "outputs": [],
   "source": [
    "2 != 1"
   ]
  },
  {
   "cell_type": "code",
   "execution_count": null,
   "metadata": {
    "colab": {
     "base_uri": "https://localhost:8080/"
    },
    "id": "a5MhAqGcX4Zm",
    "outputId": "0bd51e28-e0a6-4c2e-84ef-09c92b23866c"
   },
   "outputs": [],
   "source": [
    "2 != 2"
   ]
  },
  {
   "cell_type": "markdown",
   "metadata": {
    "id": "5zS48hT3X4Zm"
   },
   "source": [
    "#### Greater Than"
   ]
  },
  {
   "cell_type": "code",
   "execution_count": null,
   "metadata": {
    "colab": {
     "base_uri": "https://localhost:8080/"
    },
    "id": "a0SEHUXjX4Zm",
    "outputId": "38ec796a-1c12-45df-ab93-318459509fb1"
   },
   "outputs": [],
   "source": [
    "2 > 1"
   ]
  },
  {
   "cell_type": "code",
   "execution_count": null,
   "metadata": {
    "colab": {
     "base_uri": "https://localhost:8080/"
    },
    "id": "NwLEUgDvX4Zm",
    "outputId": "bf66dd3a-0a10-49f4-d024-f388dd95d039"
   },
   "outputs": [],
   "source": [
    "2 > 4"
   ]
  },
  {
   "cell_type": "markdown",
   "metadata": {
    "id": "zZvJiFBqX4Zm"
   },
   "source": [
    "#### Less Than"
   ]
  },
  {
   "cell_type": "code",
   "execution_count": null,
   "metadata": {
    "colab": {
     "base_uri": "https://localhost:8080/"
    },
    "id": "2frZQJRXX4Zm",
    "outputId": "e96c8ef7-3610-474c-c955-541c7147207f"
   },
   "outputs": [],
   "source": [
    "2 < 4"
   ]
  },
  {
   "cell_type": "code",
   "execution_count": null,
   "metadata": {
    "colab": {
     "base_uri": "https://localhost:8080/"
    },
    "id": "CuT2TUSpX4Zm",
    "outputId": "549bf3c3-e28b-48d7-cc5c-40c52adeb162"
   },
   "outputs": [],
   "source": [
    "2 < 1"
   ]
  },
  {
   "cell_type": "markdown",
   "metadata": {
    "id": "LFdi2yQiX4Zm"
   },
   "source": [
    "#### Greater Than or Equal to"
   ]
  },
  {
   "cell_type": "code",
   "execution_count": null,
   "metadata": {
    "colab": {
     "base_uri": "https://localhost:8080/"
    },
    "id": "827dEpjaX4Zm",
    "outputId": "ac4e81df-0671-4d57-ad98-86376bb9342f"
   },
   "outputs": [],
   "source": [
    "2 >= 2"
   ]
  },
  {
   "cell_type": "code",
   "execution_count": null,
   "metadata": {
    "colab": {
     "base_uri": "https://localhost:8080/"
    },
    "id": "g1-E376OX4Zm",
    "outputId": "6a135d64-cb30-4e2c-9f0d-67bfb2d09200"
   },
   "outputs": [],
   "source": [
    "2 >= 1"
   ]
  },
  {
   "cell_type": "markdown",
   "metadata": {
    "id": "AfDymlaUX4Zm"
   },
   "source": [
    "#### Less than or Equal to"
   ]
  },
  {
   "cell_type": "code",
   "execution_count": null,
   "metadata": {
    "colab": {
     "base_uri": "https://localhost:8080/"
    },
    "id": "qSO24O1_X4Zm",
    "outputId": "d38946e2-f334-4b06-f1fa-7816c8bcac82"
   },
   "outputs": [],
   "source": [
    "2 <= 2"
   ]
  },
  {
   "cell_type": "code",
   "execution_count": null,
   "metadata": {
    "colab": {
     "base_uri": "https://localhost:8080/"
    },
    "id": "5yuUKrqWX4Zm",
    "outputId": "8401071e-fc0a-4194-8704-4f6492d1133f"
   },
   "outputs": [],
   "source": [
    "2 <= 4"
   ]
  },
  {
   "cell_type": "markdown",
   "metadata": {
    "id": "FjcifUu5X4Zm"
   },
   "source": [
    "# Part 3 Exercises\n"
   ]
  },
  {
   "cell_type": "markdown",
   "metadata": {
    "id": "tEAgCjkmX4Zm"
   },
   "source": [
    "From memory, write a brief description of all the following Object Types and Data Structures we've learned about. Note if they are mutable or immutable in your description:"
   ]
  },
  {
   "cell_type": "markdown",
   "metadata": {
    "id": "UVWVh7sAX4Zn"
   },
   "source": [
    "**For the full answers, review the Jupyter notebook introductions of each topic!**\n",
    "\n",
    "* Numbers\n",
    "\n",
    "* Strings\n",
    "\n",
    "* Lists\n",
    "\n",
    "* Tuples\n",
    "\n",
    "* Dictionaries\n",
    "\n",
    "* Sets\n"
   ]
  },
  {
   "cell_type": "markdown",
   "metadata": {
    "id": "TeE0rPMMX4Zn"
   },
   "source": [
    "## Numbers\n",
    "\n",
    "Write an equation that uses multiplication, division, an exponent, addition, and subtraction that is equal to 100.25.\n",
    "\n",
    "Hint: This is just to test your memory of the basic arithmetic commands, work backwards from 100.25"
   ]
  },
  {
   "cell_type": "code",
   "execution_count": null,
   "metadata": {
    "id": "M60ZtVObX4Zn"
   },
   "outputs": [],
   "source": []
  },
  {
   "cell_type": "markdown",
   "metadata": {
    "id": "Z1yiSwqNX4Zn"
   },
   "source": [
    "Answer these 3 questions without typing code. Then type code to check your answer.\n",
    "\n",
    "    What is the value of the expression 4 * (6 + 5)\n",
    "    \n",
    "    What is the value of the expression 4 * 6 + 5\n",
    "    \n",
    "    What is the value of the expression 4 + 6 * 5"
   ]
  },
  {
   "cell_type": "code",
   "execution_count": null,
   "metadata": {
    "id": "ZLnQj_E0X4Zn"
   },
   "outputs": [],
   "source": []
  },
  {
   "cell_type": "code",
   "execution_count": null,
   "metadata": {
    "id": "4349ENofX4Zn"
   },
   "outputs": [],
   "source": []
  },
  {
   "cell_type": "code",
   "execution_count": null,
   "metadata": {
    "id": "2vZkvNRuX4Zn"
   },
   "outputs": [],
   "source": []
  },
  {
   "cell_type": "markdown",
   "metadata": {
    "id": "3pqN1jM5X4Zn"
   },
   "source": [
    "What would you use to find a number’s square root, as well as its square? Provide an example in Python."
   ]
  },
  {
   "cell_type": "code",
   "execution_count": null,
   "metadata": {
    "id": "_1wMUhR4X4Zn"
   },
   "outputs": [],
   "source": []
  },
  {
   "cell_type": "code",
   "execution_count": null,
   "metadata": {
    "id": "url_KgfQX4Zn"
   },
   "outputs": [],
   "source": []
  },
  {
   "cell_type": "markdown",
   "metadata": {
    "id": "Zwv6QkO9X4Zn"
   },
   "source": [
    "## Strings"
   ]
  },
  {
   "cell_type": "markdown",
   "metadata": {
    "id": "Vh4teNq0X4Zn"
   },
   "source": [
    "Given the string 'hello' give an index command that returns 'e'. Enter your code in the cell below:"
   ]
  },
  {
   "cell_type": "code",
   "execution_count": null,
   "metadata": {
    "id": "RHG5oZx4X4Zn"
   },
   "outputs": [],
   "source": []
  },
  {
   "cell_type": "markdown",
   "metadata": {
    "id": "yGEDNlc6X4Zn"
   },
   "source": [
    "Reverse the string 'hello' using slicing:"
   ]
  },
  {
   "cell_type": "code",
   "execution_count": null,
   "metadata": {
    "id": "hkqJ8UJhX4Zn"
   },
   "outputs": [],
   "source": []
  },
  {
   "cell_type": "markdown",
   "metadata": {
    "id": "mJ8pSHd9X4Zn"
   },
   "source": [
    "Given the string 'hello', give two methods of producing the letter 'o' using indexing."
   ]
  },
  {
   "cell_type": "code",
   "execution_count": null,
   "metadata": {
    "id": "c-EE_id4X4Zn"
   },
   "outputs": [],
   "source": []
  },
  {
   "cell_type": "markdown",
   "metadata": {
    "id": "80hkAVtFX4Zn"
   },
   "source": [
    "## Lists"
   ]
  },
  {
   "cell_type": "markdown",
   "metadata": {
    "id": "1qqVeiH-X4Zn"
   },
   "source": [
    "Build this list [0,0,0] two separate ways."
   ]
  },
  {
   "cell_type": "code",
   "execution_count": null,
   "metadata": {
    "id": "-8oHWo61X4Zn"
   },
   "outputs": [],
   "source": []
  },
  {
   "cell_type": "markdown",
   "metadata": {
    "id": "OH8qwqxuX4Zo"
   },
   "source": [
    "Sort the list below:"
   ]
  },
  {
   "cell_type": "code",
   "execution_count": null,
   "metadata": {
    "id": "rK4Es8zlX4Zo"
   },
   "outputs": [],
   "source": [
    "list4 = [5,3,4,6,1]"
   ]
  },
  {
   "cell_type": "code",
   "execution_count": null,
   "metadata": {
    "id": "cW9z16LJX4Zo"
   },
   "outputs": [],
   "source": []
  },
  {
   "cell_type": "markdown",
   "metadata": {
    "id": "_curcqLCX4Zo"
   },
   "source": [
    "## Dictionaries"
   ]
  },
  {
   "cell_type": "markdown",
   "metadata": {
    "id": "KWWSjbnaX4Zo"
   },
   "source": [
    "Using keys and indexing, grab the 'hello' from the following dictionaries:"
   ]
  },
  {
   "cell_type": "code",
   "execution_count": null,
   "metadata": {
    "id": "KEZ4gAA5X4Zo"
   },
   "outputs": [],
   "source": [
    "# Create a dictionary with different types of elements\n",
    "my_dict = {\n",
    "    \"string_key\": \"hello\",            # String value\n",
    "    42: 3.14,                         # Integer key and float value\n",
    "    (1, 2): [1, 2, 3],                # Tuple key and list value\n",
    "    frozenset([1, 2, 3]): \"frozen\",   # Frozenset key and string value\n",
    "    \"boolean_key\": True,              # Boolean value\n",
    "    7.5: None,                        # Float key and None value\n",
    "}"
   ]
  },
  {
   "cell_type": "markdown",
   "metadata": {
    "id": "DScZ2nZfX4Zo"
   },
   "source": [
    "## Tuples"
   ]
  },
  {
   "cell_type": "markdown",
   "metadata": {
    "id": "24Ol1mtKX4Zo"
   },
   "source": [
    "What is the major difference between tuples and lists?"
   ]
  },
  {
   "cell_type": "markdown",
   "metadata": {
    "id": "QiBhUWzMX4Zo"
   },
   "source": [
    "Your answer:"
   ]
  },
  {
   "cell_type": "markdown",
   "metadata": {
    "id": "vmgL215mX4Zo"
   },
   "source": [
    "How do you create a tuple?"
   ]
  },
  {
   "cell_type": "code",
   "execution_count": null,
   "metadata": {
    "id": "8zj-YDDbX4Zo"
   },
   "outputs": [],
   "source": [
    "# provide an example"
   ]
  },
  {
   "cell_type": "markdown",
   "metadata": {
    "id": "5gFSHF3zX4Zo"
   },
   "source": [
    "## Sets"
   ]
  },
  {
   "cell_type": "markdown",
   "metadata": {
    "id": "9Z_CUOnOX4Zo"
   },
   "source": [
    "What is unique about a set?"
   ]
  },
  {
   "cell_type": "markdown",
   "metadata": {
    "id": "XcWWXBluX4Zo"
   },
   "source": [
    "Your answer:"
   ]
  },
  {
   "cell_type": "markdown",
   "metadata": {
    "id": "v1d5b59pX4Zo"
   },
   "source": [
    "Use a set to find the unique values of the list below:"
   ]
  },
  {
   "cell_type": "code",
   "execution_count": null,
   "metadata": {
    "id": "T4HFSfRCX4Zo"
   },
   "outputs": [],
   "source": [
    "list5 = [1,2,2,33,4,4,11,22,3,3,2]"
   ]
  },
  {
   "cell_type": "code",
   "execution_count": null,
   "metadata": {
    "id": "h8rX5UNBX4Zo"
   },
   "outputs": [],
   "source": [
    "# your answer here\n"
   ]
  },
  {
   "cell_type": "markdown",
   "metadata": {
    "id": "gSD3ocdpX4Zo"
   },
   "source": [
    "## Booleans"
   ]
  },
  {
   "cell_type": "markdown",
   "metadata": {
    "id": "om9IToQaX4Zo"
   },
   "source": [
    "For the following quiz questions, we will get a preview of comparison operators. In the table below, a=3 and b=4.\n",
    "\n",
    "<table class=\"table table-bordered\">\n",
    "<tr>\n",
    "<th style=\"width:10%\">Operator</th><th style=\"width:45%\">Description</th><th>Example</th>\n",
    "</tr>\n",
    "<tr>\n",
    "<td>==</td>\n",
    "<td>If the values of two operands are equal, then the condition becomes true.</td>\n",
    "<td> (a == b) is not true.</td>\n",
    "</tr>\n",
    "<tr>\n",
    "<td>!=</td>\n",
    "<td>If values of two operands are not equal, then condition becomes true.</td>\n",
    "<td> (a != b) is true.</td>\n",
    "</tr>\n",
    "<tr>\n",
    "<td>&gt;</td>\n",
    "<td>If the value of left operand is greater than the value of right operand, then condition becomes true.</td>\n",
    "<td> (a &gt; b) is not true.</td>\n",
    "</tr>\n",
    "<tr>\n",
    "<td>&lt;</td>\n",
    "<td>If the value of left operand is less than the value of right operand, then condition becomes true.</td>\n",
    "<td> (a &lt; b) is true.</td>\n",
    "</tr>\n",
    "<tr>\n",
    "<td>&gt;=</td>\n",
    "<td>If the value of left operand is greater than or equal to the value of right operand, then condition becomes true.</td>\n",
    "<td> (a &gt;= b) is not true. </td>\n",
    "</tr>\n",
    "<tr>\n",
    "<td>&lt;=</td>\n",
    "<td>If the value of left operand is less than or equal to the value of right operand, then condition becomes true.</td>\n",
    "<td> (a &lt;= b) is true. </td>\n",
    "</tr>\n",
    "</table>"
   ]
  },
  {
   "cell_type": "markdown",
   "metadata": {
    "id": "paXHchPsX4Zo"
   },
   "source": [
    "What will be the resulting Boolean of the following pieces of code (answer fist then check by typing it in!)"
   ]
  },
  {
   "cell_type": "code",
   "execution_count": null,
   "metadata": {
    "id": "HsUEm8poX4Zo"
   },
   "outputs": [],
   "source": [
    "# Answer before running cell\n",
    "# your answer:\n",
    "2 > 3"
   ]
  },
  {
   "cell_type": "code",
   "execution_count": null,
   "metadata": {
    "id": "u9UdU42-X4Zo"
   },
   "outputs": [],
   "source": [
    "# Answer before running cell\n",
    "# your answer:\n",
    "3 <= 2"
   ]
  },
  {
   "cell_type": "code",
   "execution_count": null,
   "metadata": {
    "id": "L7WnhjOgX4Zo"
   },
   "outputs": [],
   "source": [
    "# Answer before running cell\n",
    "# your answer:\n",
    "3 == 2.0"
   ]
  },
  {
   "cell_type": "code",
   "execution_count": null,
   "metadata": {
    "colab": {
     "base_uri": "https://localhost:8080/"
    },
    "id": "sy8InC4yX4Zp",
    "outputId": "93a389da-cda2-4ebf-989e-fc7ce0e4e143"
   },
   "outputs": [],
   "source": [
    "# Answer before running cell\n",
    "# your answer:\n",
    "3.0 == 3"
   ]
  },
  {
   "cell_type": "code",
   "execution_count": null,
   "metadata": {
    "id": "K0ts7w3uX4Zq"
   },
   "outputs": [],
   "source": [
    "# Answer before running cell\n",
    "# your answer:\n",
    "4**0.5 != 2"
   ]
  },
  {
   "cell_type": "markdown",
   "metadata": {
    "id": "duTn2BxLX4Zq"
   },
   "source": [
    "What is the boolean output of the cell block below?"
   ]
  },
  {
   "cell_type": "code",
   "execution_count": null,
   "metadata": {
    "id": "cRqOLNx1X4Zq"
   },
   "outputs": [],
   "source": [
    "# two nested lists\n",
    "l_one = [1,2,[3,4]]\n",
    "l_two = [1,2,{'k1':4}]\n",
    "\n",
    "# True or False?\n",
    "l_one[2][0] >= l_two[2]['k1']\n",
    "\n",
    "# your answer:"
   ]
  },
  {
   "cell_type": "markdown",
   "metadata": {
    "id": "djYqcnT5X4Zq"
   },
   "source": [
    "##### Index Method Practice"
   ]
  },
  {
   "cell_type": "code",
   "execution_count": null,
   "metadata": {
    "id": "Xrc4L97MX4Zr"
   },
   "outputs": [],
   "source": [
    "# Find and display on the screen which character occupies the fifth position within the following word: \"computer\"\n"
   ]
  },
  {
   "cell_type": "code",
   "execution_count": null,
   "metadata": {
    "id": "QW_RFy13X4Zr"
   },
   "outputs": [],
   "source": [
    "# Find and display the index of the first occurrence of the word \"practice\" in the following sentence:\n",
    "# \"In theory, theory and practice are the same. In practice, they are not.\"\n",
    "# hint: look at the available methods for string\n",
    "string = \"In theory, theory and practice are the same. In practice, they are not.\""
   ]
  },
  {
   "cell_type": "code",
   "execution_count": null,
   "metadata": {
    "id": "VCvlyYxaX4Zr"
   },
   "outputs": [],
   "source": [
    "# Find and display the index of the last occurrence of the word \"practice\" in the following sentence:\n",
    "# \"In theory, theory and practice are the same. In practice, they are not.\"\n",
    "# hint: look at the available methods for string"
   ]
  },
  {
   "cell_type": "markdown",
   "metadata": {
    "id": "zfWz8I9EX4Zr"
   },
   "source": [
    "##### Extracting Sub-Strings Practice"
   ]
  },
  {
   "cell_type": "code",
   "execution_count": null,
   "metadata": {
    "id": "ox_jBr0HX4Zr"
   },
   "outputs": [],
   "source": [
    "# Extract the first word of the following sentence using slicing, and display it on the screen:\n",
    "# \"Controlling complexity is the essence of programming\"\n"
   ]
  },
  {
   "cell_type": "markdown",
   "metadata": {
    "id": "JNMuPbVhX4Zr"
   },
   "source": [
    "#### String Methods Practice"
   ]
  },
  {
   "cell_type": "code",
   "execution_count": null,
   "metadata": {
    "id": "AR68Q7RQX4Zr"
   },
   "outputs": [],
   "source": [
    "# Print the following text in uppercase, using the specific string method:\n",
    "# \"Especially in electronic communications, writing in all caps is equivalent to yelling.\"\n"
   ]
  },
  {
   "cell_type": "code",
   "execution_count": null,
   "metadata": {
    "id": "m7cO4QaMX4Zr"
   },
   "outputs": [],
   "source": [
    "# Replace in the following sentence:\n",
    "# \"If the implementation is hard to explain, it might be a bad idea.\"\n",
    "# the following pairs of words:\n",
    "#     \"hard\" --> \"easy\"\n",
    "#     \"bad\" --> \"good\"\n",
    "# and display the sentence with both words modified.\n",
    "\n"
   ]
  },
  {
   "cell_type": "markdown",
   "metadata": {
    "id": "DQblPjSXX4Zr"
   },
   "source": [
    "#### Lists Practice"
   ]
  },
  {
   "cell_type": "code",
   "execution_count": null,
   "metadata": {
    "id": "1opsSoZ1X4Zr"
   },
   "outputs": [],
   "source": [
    "# Create and print a list with 5 elements, inside the variable my_list.\n",
    "# The elements can be of different types, including strings, booleans, numbers, etc.\n",
    "\n"
   ]
  },
  {
   "cell_type": "code",
   "execution_count": null,
   "metadata": {
    "id": "fDZvi7n_X4Zr"
   },
   "outputs": [],
   "source": [
    "# Add the element \"motorcycle\" to the following list of trips:\n",
    "# trips = [\"plane\", \"car\", \"ship\", \"bicycle\"]\n",
    "\n"
   ]
  },
  {
   "cell_type": "markdown",
   "metadata": {
    "id": "NRG4vhayX4Zr"
   },
   "source": [
    "#### Tuples Practice:"
   ]
  },
  {
   "cell_type": "code",
   "execution_count": null,
   "metadata": {
    "id": "Dx-6vZ4OX4Zr"
   },
   "outputs": [],
   "source": [
    "# Use a tuple method to count the number of times the value 2 appears in the following tuple,\n",
    "# and display the result (integer) on the screen:\n",
    "# my_tuple = (1, 2, 3, 2, 3, 1, 3, 2, 3, 3, 3, 1, 3, 2, 2, 1, 3, 2)\n",
    "\n"
   ]
  },
  {
   "cell_type": "code",
   "execution_count": null,
   "metadata": {
    "id": "jz-H8ShiX4Zr"
   },
   "outputs": [],
   "source": [
    "# Convert the following tuple to a list, and store it in a variable called my_list.\n",
    "# my_tuple = (1, 2, 3, 2, 3, 1, 3, 2)\n",
    "\n"
   ]
  },
  {
   "cell_type": "code",
   "execution_count": null,
   "metadata": {
    "id": "r1VbSxF4X4Zr"
   },
   "outputs": [],
   "source": [
    "# Extract the elements of the following tuple into four variables: a, b, c, d\n",
    "# my_tuple = (1, 2, 3, 4)"
   ]
  },
  {
   "cell_type": "markdown",
   "metadata": {
    "id": "F-Vc8SOAX4Zr"
   },
   "source": [
    "#### Sets Practice:"
   ]
  },
  {
   "cell_type": "code",
   "execution_count": null,
   "metadata": {
    "id": "x6yM8AyIX4Zr"
   },
   "outputs": [],
   "source": [
    "# Join the following sets into one, called my_set_3:\n",
    "# {1, 2, \"three\", \"four\"}\n",
    "# {\"three\", 4, 5}\n",
    "# hint: look at the available methods for a set\n",
    "\n"
   ]
  },
  {
   "cell_type": "code",
   "execution_count": null,
   "metadata": {
    "id": "K2W_41GlX4Zr"
   },
   "outputs": [],
   "source": [
    "# Remove a random item from the following set, using set methods.\n",
    "# raffle = {\"Rachel\", \"Monica\", \"Phoebe\", \"Joey\", \"Chandler\", \"Ross\"}\n",
    "\n"
   ]
  },
  {
   "cell_type": "code",
   "execution_count": null,
   "metadata": {
    "id": "u9VXasAJX4Zr"
   },
   "outputs": [],
   "source": [
    "# Add the name Gunther to the following set, using set methods:\n",
    "# raffle = {\"Rachel\", \"Monica\", \"Phoebe\", \"Joey\", \"Chandler\", \"Ross\"}\n",
    "\n"
   ]
  },
  {
   "cell_type": "markdown",
   "metadata": {
    "id": "minRzFRxX4Zr"
   },
   "source": [
    "#################################################################################"
   ]
  },
  {
   "cell_type": "markdown",
   "metadata": {
    "id": "bvNHlZfpX4Zs"
   },
   "source": [
    "#################################################################################"
   ]
  },
  {
   "cell_type": "markdown",
   "metadata": {
    "id": "mIJxtJzBX4Zs"
   },
   "source": [
    "# PART 4 - Python Statements"
   ]
  },
  {
   "cell_type": "markdown",
   "metadata": {
    "id": "Fhni8IiYX4Zs"
   },
   "source": [
    "Python statements are the instructions you write in a Python program to perform specific actions. In Python, unlike many other languages, the focus is on readability and simplicity. One of Python's most distinctive features is its use of indentation to mark blocks of code.\n",
    "\n",
    "Here are some key types of statements in Python:\n",
    "\n",
    "    Expression Statements: These are the most basic kind of statement, typically used for simple operations like assignment or evaluation. For example, a = 5 or print(a).\n",
    "\n",
    "    Control Flow Statements: These statements control the execution of code based on certain conditions.\n",
    "        if Statement: Used for conditional execution.\n",
    "        for and while Loops: Used for repeating a block of code multiple times.\n",
    "        break and continue: Used within loops to alter their normal behavior.\n",
    "        pass: A no-operation statement that is used for syntactic purposes.\n",
    "\n",
    "    Function and Class Definitions:\n",
    "        Function Definition (def): Used to define a function.\n",
    "        Class Definition (class): Used to define a class.\n",
    "\n",
    "    Import Statements: For including external modules in your program (import, from ... import).\n",
    "\n",
    "    Exception Handling Statements:\n",
    "        try and except: Used for handling exceptions.\n",
    "        raise: Used to raise an exception.\n",
    "        finally: Used to define actions that must be executed under all circumstances.\n"
   ]
  },
  {
   "cell_type": "markdown",
   "metadata": {
    "id": "GIiE5zvYX4Zs"
   },
   "source": [
    "## Python vs Other Languages"
   ]
  },
  {
   "cell_type": "markdown",
   "metadata": {
    "id": "9pMT7IBmX4Zs"
   },
   "source": [
    "\n",
    "## Indentation\n",
    "\n",
    "Here is some pseudo-code to indicate the use of whitespace and indentation in Python:\n",
    "\n",
    "**Other Languages**\n",
    "\n",
    "    if (x)\n",
    "        if(y)\n",
    "            code-statement;\n",
    "    else\n",
    "        another-code-statement;\n",
    "        \n",
    "**Python**\n",
    "    \n",
    "    if x:\n",
    "        if y:\n",
    "            code-statement\n",
    "    else:\n",
    "        another-code-statement"
   ]
  },
  {
   "cell_type": "markdown",
   "metadata": {
    "id": "M0IMh7YAX4Zs"
   },
   "source": [
    "Note how Python is so heavily driven by code indentation and whitespace. This means that code readability is a core part of the design of the Python language.\n",
    "\n",
    "Also notice how a semi-colon or other character is not required to mark the end of a line.\n",
    "\n",
    "Now let's start diving deeper by coding these sort of statements in Python!"
   ]
  },
  {
   "cell_type": "markdown",
   "metadata": {
    "id": "muL3uwXZX4Zs"
   },
   "source": [
    "# if, elif, else Statements\n",
    "\n",
    "<code>if</code> Statements in Python allows us to tell the computer to perform alternative actions based on a certain set of results.\n",
    "\n",
    "Verbally, we can imagine we are telling the computer:\n",
    "\n",
    "\"Hey if this case happens, perform some action\"\n",
    "\n",
    "We can then expand the idea further with <code>elif</code> and <code>else</code> statements, which allow us to tell the computer:\n",
    "\n",
    "\"Hey if this case happens, perform some action. Else, if another case happens, perform some other action. Else, if *none* of the above cases happened, perform this action.\"\n",
    "\n",
    "Let's go ahead and look at the syntax format for <code>if</code> statements to get a better idea of this:\n",
    "\n",
    "    if case1:\n",
    "        perform action1\n",
    "    elif case2:\n",
    "        perform action2\n",
    "    else:\n",
    "        perform action3"
   ]
  },
  {
   "cell_type": "markdown",
   "metadata": {
    "id": "qpHin5PgX4Zs"
   },
   "source": [
    "## First Example\n",
    "\n",
    "Let's see a quick example of this:"
   ]
  },
  {
   "cell_type": "code",
   "execution_count": null,
   "metadata": {
    "colab": {
     "base_uri": "https://localhost:8080/"
    },
    "id": "XzKbwWaHX4Zs",
    "outputId": "7ee592ab-670f-40b3-c3eb-970b33e3ab28"
   },
   "outputs": [],
   "source": [
    "if True:\n",
    "    print('It was true!')"
   ]
  },
  {
   "cell_type": "markdown",
   "metadata": {
    "id": "Rzd0ZNTZX4Zs"
   },
   "source": [
    "Let's add in some else logic:"
   ]
  },
  {
   "cell_type": "code",
   "execution_count": null,
   "metadata": {
    "colab": {
     "base_uri": "https://localhost:8080/"
    },
    "id": "ylZR-5lZX4Zs",
    "outputId": "69f4e812-f5ea-411f-95d7-9f36bb18a309"
   },
   "outputs": [],
   "source": [
    "x = False\n",
    "\n",
    "if x:\n",
    "    print('x was True!')\n",
    "else:\n",
    "    print('I will be printed in any case where x is not true')"
   ]
  },
  {
   "cell_type": "markdown",
   "metadata": {
    "id": "3fPnbaUyX4Zs"
   },
   "source": [
    "### Multiple Branches\n",
    "\n",
    "We write this out in a nested structure. Take note of how the <code>if</code>, <code>elif</code>, and <code>else</code> line up in the code. This can help you see what <code>if</code> is related to what <code>elif</code> or <code>else</code> statements.\n",
    "\n",
    "here using a comparison syntax for Python."
   ]
  },
  {
   "cell_type": "code",
   "execution_count": null,
   "metadata": {
    "colab": {
     "base_uri": "https://localhost:8080/"
    },
    "id": "VXlcF3eAX4Zs",
    "outputId": "cc83f003-8f41-4448-b881-5aefa7888327"
   },
   "outputs": [],
   "source": [
    "loc = 'Bank'\n",
    "\n",
    "if loc == 'Auto Shop':\n",
    "    print('Welcome to the Auto Shop!')\n",
    "elif loc == 'Bank':\n",
    "    print('Welcome to the bank!')\n",
    "else:\n",
    "    print('Where are you?')"
   ]
  },
  {
   "cell_type": "markdown",
   "metadata": {
    "id": "-5WPU2VzX4Zs"
   },
   "source": [
    "Note how the nested <code>if</code> statements are each checked until a True boolean causes the nested code below it to run. You should also note that you can put in as many <code>elif</code> statements as you want before you close off with an <code>else</code>.\n",
    "\n",
    "Let's create two more simple examples for the <code>if</code>, <code>elif</code>, and <code>else</code> statements:"
   ]
  },
  {
   "cell_type": "code",
   "execution_count": null,
   "metadata": {
    "colab": {
     "base_uri": "https://localhost:8080/"
    },
    "id": "T7v0iylFX4Zs",
    "outputId": "97a17dcd-99aa-40de-967e-4bbebece4515"
   },
   "outputs": [],
   "source": [
    "person = 'Sammy'\n",
    "\n",
    "if person == 'Sammy':\n",
    "    print('Welcome Sammy!')\n",
    "else:\n",
    "    print(\"Welcome, what's your name?\")"
   ]
  },
  {
   "cell_type": "code",
   "execution_count": null,
   "metadata": {
    "colab": {
     "base_uri": "https://localhost:8080/"
    },
    "id": "HXQFGKnTX4Zs",
    "outputId": "ab989c23-346a-4ffb-947d-00e2b5efde0a"
   },
   "outputs": [],
   "source": [
    "person = 'George'\n",
    "\n",
    "if person == 'Sammy':\n",
    "    print('Welcome Sammy!')\n",
    "elif person =='George':\n",
    "    print('Welcome George!')\n",
    "else:\n",
    "    print(\"Welcome, what's your name?\")"
   ]
  },
  {
   "cell_type": "markdown",
   "metadata": {
    "id": "ug9cJFQtr6GU"
   },
   "source": [
    "Python will let you not include the \"else\" part of an if/else statement, but note that nothing will be outputted below because nothing triggered the if or elif:"
   ]
  },
  {
   "cell_type": "code",
   "execution_count": null,
   "metadata": {
    "id": "-1FV8NhErzpw"
   },
   "outputs": [],
   "source": [
    "person = 'George'\n",
    "\n",
    "if person == 'Sammy':\n",
    "    print('Welcome Sammy!')\n",
    "elif person =='Steven':\n",
    "    print('Welcome George!')"
   ]
  },
  {
   "cell_type": "markdown",
   "metadata": {
    "id": "VNnrmL4HX4Zs"
   },
   "source": [
    "## Indentation\n",
    "\n",
    "It is important to keep a good understanding of how indentation works in Python to maintain the structure and order of your code. We will touch on this topic again when we start building out functions!"
   ]
  }
 ],
 "metadata": {
  "anaconda-cloud": {},
  "colab": {
   "provenance": []
  },
  "kernelspec": {
   "display_name": "Python 3 (ipykernel)",
   "language": "python",
   "name": "python3"
  },
  "language_info": {
   "codemirror_mode": {
    "name": "ipython",
    "version": 3
   },
   "file_extension": ".py",
   "mimetype": "text/x-python",
   "name": "python",
   "nbconvert_exporter": "python",
   "pygments_lexer": "ipython3",
   "version": "3.9.13"
  }
 },
 "nbformat": 4,
 "nbformat_minor": 4
}
